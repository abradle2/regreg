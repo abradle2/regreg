{
 "metadata": {
  "name": "Beta regression"
 },
 "nbformat": 3,
 "nbformat_minor": 0,
 "worksheets": [
  {
   "cells": [
    {
     "cell_type": "code",
     "collapsed": false,
     "input": [
      "import numpy as np, regreg.api as rr, regreg.affine as ra\n",
      "import scipy.special\n"
     ],
     "language": "python",
     "metadata": {},
     "outputs": [],
     "prompt_number": 306
    },
    {
     "cell_type": "code",
     "collapsed": false,
     "input": [
      "class beta_loglikelihood(rr.smooth_atom):\n",
      "    \n",
      "    def __init__(self, proportions,\n",
      "                 coef=1.,\n",
      "                 offset=None,\n",
      "                 quadratic=None,\n",
      "                 initial=None):\n",
      "    \n",
      "        self.proportions = proportions.reshape(-1)\n",
      "        self.primal_shape = proportions.shape + (2,)\n",
      "        rr.smooth_atom.__init__(self, self.primal_shape,\n",
      "                                offset=offset,\n",
      "                                coef=coef,\n",
      "                                quadratic=quadratic,\n",
      "                                initial=initial)\n",
      "    def smooth_objective(self, x, mode='both', check_feasibility=False):\n",
      "        \"\"\"\n",
      "        Evaluate a smooth function and/or its gradient\n",
      "\n",
      "        if mode == 'both', return both function value and gradient\n",
      "        if mode == 'grad', return only the gradient\n",
      "        if mode == 'func', return only the function value\n",
      "        \"\"\"\n",
      "        x = x.reshape(self.primal_shape)\n",
      "        omega = np.exp(x[:,0])\n",
      "        tau = np.exp(x[:,1])\n",
      "        \n",
      "        if mode == 'func':\n",
      "            v = scipy.special.betaln(omega, tau).sum()\n",
      "            v -= ((omega - 1.) * np.log(self.proportions)).sum()\n",
      "            v -= ((tau - 1.) * np.log(1.-self.proportions)).sum()\n",
      "            \n",
      "            return v\n",
      "        elif mode == 'both':\n",
      "            v = scipy.special.betaln(omega, tau).sum()\n",
      "            v -= ((omega - 1.) * np.log(self.proportions)).sum()\n",
      "            v -= ((tau - 1.) * np.log(1.-self.proportions)).sum()\n",
      "            g_omega = (-np.log(self.proportions) + (scipy.special.digamma(omega) - scipy.special.digamma(omega+tau))) * omega\n",
      "            g_tau = (-np.log(1-self.proportions) + (scipy.special.digamma(tau) - scipy.special.digamma(omega+tau))) * tau\n",
      "            g = np.array([g_omega, g_tau]).T\n",
      "            return v, g\n",
      "        elif mode == 'grad':\n",
      "            g_omega = (-np.log(self.proportions) + (scipy.special.digamma(omega) - scipy.special.digamma(omega+tau))) * omega\n",
      "            g_tau = (-np.log(1-self.proportions) + (scipy.special.digamma(tau) - scipy.special.digamma(omega+tau))) * tau\n",
      "            g = np.array([g_omega, g_tau]).T\n",
      "            return g\n",
      "        else:\n",
      "            raise ValueError(\"mode incorrectly specified\")\n",
      "            \n"
     ],
     "language": "python",
     "metadata": {},
     "outputs": [],
     "prompt_number": 307
    },
    {
     "cell_type": "code",
     "collapsed": false,
     "input": [
      "proportions = np.random.binomial(10, 0.5, size=(100,)) / 12. + 0.01\n",
      "logl = beta_loglikelihood(proportions)"
     ],
     "language": "python",
     "metadata": {},
     "outputs": [],
     "prompt_number": 308
    },
    {
     "cell_type": "code",
     "collapsed": false,
     "input": [
      "logl.smooth_objective(np.ones((100,2))*2., mode='both')\n",
      "penalty = rr.l1_l2((100,2), lagrange=3.)\n",
      "\n",
      "problem = rr.simple_problem(logl, penalty)\n",
      "problem.coefs[:] = np.ones((100,2))*2.\n",
      "soln = problem.solve()"
     ],
     "language": "python",
     "metadata": {},
     "outputs": [],
     "prompt_number": 309
    },
    {
     "cell_type": "code",
     "collapsed": false,
     "input": [
      "%load_ext rmagic\n"
     ],
     "language": "python",
     "metadata": {},
     "outputs": [],
     "prompt_number": 310
    },
    {
     "cell_type": "code",
     "collapsed": false,
     "input": [
      "%%R -o X,Y\n",
      "d = read.table('data812.txt')\n",
      "X = as.matrix(d[,2:ncol(d)])\n",
      "Y = d[,1]\n",
      "print(dim(X))"
     ],
     "language": "python",
     "metadata": {},
     "outputs": [
      {
       "output_type": "display_data",
       "text": [
        "[1] 1471   29\n"
       ]
      }
     ],
     "prompt_number": 311
    },
    {
     "cell_type": "code",
     "collapsed": false,
     "input": [
      "Y.shape, X.shape\n"
     ],
     "language": "python",
     "metadata": {},
     "outputs": [
      {
       "output_type": "pyout",
       "prompt_number": 312,
       "text": [
        "((1471,), (1471, 29))"
       ]
      }
     ],
     "prompt_number": 312
    },
    {
     "cell_type": "code",
     "collapsed": false,
     "input": [
      "n, p = X.shape\n",
      "lagrange = 1.\n",
      "X = np.hstack([np.ones((n,1)),X])\n",
      "n, p = X.shape"
     ],
     "language": "python",
     "metadata": {},
     "outputs": [],
     "prompt_number": 313
    },
    {
     "cell_type": "code",
     "collapsed": false,
     "input": [
      "loss = rr.affine_smooth(beta_loglikelihood(Y), X)\n",
      "loss.primal_shape = (30,2)\n",
      "penalty = rr.l1_l2((30,2), lagrange=lagrange)\n",
      "problem = rr.simple_problem(loss, penalty)\n",
      "soln = problem.solve(tol=1.e-12)"
     ],
     "language": "python",
     "metadata": {},
     "outputs": [],
     "prompt_number": 314
    },
    {
     "cell_type": "code",
     "collapsed": false,
     "input": [
      "soln"
     ],
     "language": "python",
     "metadata": {},
     "outputs": [
      {
       "output_type": "pyout",
       "prompt_number": 315,
       "text": [
        "array([[  1.78317316e-01,   1.03071453e+00],\n",
        "       [ -3.30569905e-01,  -3.29176702e-01],\n",
        "       [  2.16310024e-03,  -7.66137791e-01],\n",
        "       [  1.04395320e-01,  -1.71960113e-01],\n",
        "       [  1.30605817e+00,  -1.46306027e-02],\n",
        "       [  2.12829436e+00,  -1.26984368e+00],\n",
        "       [  1.95858554e-01,  -5.58971361e-01],\n",
        "       [  1.21930362e+00,  -1.06202335e+00],\n",
        "       [  1.22433611e+00,  -7.62371031e-01],\n",
        "       [  2.92549403e+00,  -1.65847649e+00],\n",
        "       [  2.06268380e-01,  -1.49855239e+00],\n",
        "       [ -4.92448104e-01,  -4.91738104e-01],\n",
        "       [  2.96589144e-01,   1.89918766e-02],\n",
        "       [ -2.21498435e-01,   2.34641961e-01],\n",
        "       [  8.85081131e-01,  -4.89038236e-02],\n",
        "       [  7.68295042e-02,   8.75872754e-01],\n",
        "       [  1.28334502e+00,  -1.58829534e+00],\n",
        "       [  4.88694332e+00,  -1.71937035e+00],\n",
        "       [  5.38163674e+00,  -1.69781619e+00],\n",
        "       [  5.67694639e+00,  -1.33994006e+00],\n",
        "       [  7.21954860e-01,  -2.21323827e+00],\n",
        "       [  5.45976702e-01,  -1.07700650e+00],\n",
        "       [  2.24233484e+01,   1.35841895e+01],\n",
        "       [  1.71779895e+00,  -1.12671073e+00],\n",
        "       [  9.27782384e-01,  -2.05881639e+00],\n",
        "       [  1.01580801e-01,  -3.20070883e-01],\n",
        "       [ -2.28834475e-01,  -7.41478566e-01],\n",
        "       [  5.11343269e-01,  -3.12117080e-01],\n",
        "       [  1.31656019e+00,  -1.18865785e+00],\n",
        "       [  6.38191469e-01,  -7.32264609e-01]])"
       ]
      }
     ],
     "prompt_number": 315
    },
    {
     "cell_type": "code",
     "collapsed": false,
     "input": [
      "print X.shape\n",
      "Xbeta1 = np.dot(X, problem.coefs)"
     ],
     "language": "python",
     "metadata": {},
     "outputs": [
      {
       "output_type": "stream",
       "stream": "stdout",
       "text": [
        "(1471, 30)\n"
       ]
      }
     ],
     "prompt_number": 316
    },
    {
     "cell_type": "heading",
     "level": 2,
     "metadata": {},
     "source": [
      "Using group LASSO notation (OK -- my group LASSO notation)"
     ]
    },
    {
     "cell_type": "code",
     "collapsed": false,
     "input": [
      "\n",
      "penalty_structure = np.array([[rr.UNPENALIZED]*2] + [[i]*2 for i in range(p-1)]).reshape(-1)\n",
      "penalty = rr.group_lasso(penalty_structure, lagrange / np.sqrt(2))\n",
      "T = ra.composition(ra.tensorize(X, 2), ra.reshape((2*p,), (p,2)))\n",
      "loss = rr.affine_smooth(beta_loglikelihood(Y), T)\n",
      "\n",
      "problem_gl = rr.simple_problem(loss, penalty)\n",
      "b = problem_gl.solve(tol=1.e-12)\n"
     ],
     "language": "python",
     "metadata": {},
     "outputs": [],
     "prompt_number": 317
    },
    {
     "cell_type": "code",
     "collapsed": false,
     "input": [
      "b = b.reshape((p,2))\n",
      "Xbeta2 = np.dot(X, b)\n"
     ],
     "language": "python",
     "metadata": {},
     "outputs": [],
     "prompt_number": 318
    },
    {
     "cell_type": "code",
     "collapsed": false,
     "input": [
      "import pylab\n",
      "pylab.figure(num=1); pylab.clf(); pylab.scatter(Xbeta1[:,0], Xbeta2[:,0])\n",
      "pylab.figure(num=2); pylab.clf(); pylab.scatter(Xbeta1[:,1], Xbeta2[:,1])\n"
     ],
     "language": "python",
     "metadata": {},
     "outputs": [
      {
       "output_type": "pyout",
       "prompt_number": 319,
       "text": [
        "<matplotlib.collections.PathCollection at 0x1120cce10>"
       ]
      },
      {
       "output_type": "display_data",
       "png": "[encoded data removed]"
      },
      {
       "output_type": "display_data",
       "png": "[encoded data removed]"
      }
     ],
     "prompt_number": 319
    },
    {
     "cell_type": "code",
     "collapsed": false,
     "input": [
      "b"
     ],
     "language": "python",
     "metadata": {},
     "outputs": [
      {
       "output_type": "pyout",
       "prompt_number": 320,
       "text": [
        "array([[  1.80123343e-01,   1.03307214e+00],\n",
        "       [ -3.35151407e-01,  -3.33737931e-01],\n",
        "       [ -2.08846194e-03,  -7.68937419e-01],\n",
        "       [  1.05810568e-01,  -1.72056650e-01],\n",
        "       [  1.31930544e+00,  -8.91508149e-03],\n",
        "       [  2.12775581e+00,  -1.27059780e+00],\n",
        "       [  1.95661780e-01,  -5.60297249e-01],\n",
        "       [  1.21804797e+00,  -1.06318322e+00],\n",
        "       [  1.22248706e+00,  -7.63753778e-01],\n",
        "       [  2.94020184e+00,  -1.65080858e+00],\n",
        "       [  2.02562902e-01,  -1.50180436e+00],\n",
        "       [ -4.91792384e-01,  -4.91126394e-01],\n",
        "       [  2.94533925e-01,   1.82293896e-02],\n",
        "       [ -2.23101925e-01,   2.32811357e-01],\n",
        "       [  8.84454050e-01,  -4.92423861e-02],\n",
        "       [  7.85368292e-02,   8.77101826e-01],\n",
        "       [  1.28007871e+00,  -1.58981093e+00],\n",
        "       [  4.84603397e+00,  -1.74235722e+00],\n",
        "       [  5.28169974e+00,  -1.74943034e+00],\n",
        "       [  5.67103241e+00,  -1.34264376e+00],\n",
        "       [  7.20870675e-01,  -2.21666888e+00],\n",
        "       [  5.46636992e-01,  -1.07712804e+00],\n",
        "       [  2.24262495e+01,   1.35865546e+01],\n",
        "       [  1.72439197e+00,  -1.12502662e+00],\n",
        "       [  9.28457591e-01,  -2.05993943e+00],\n",
        "       [  1.00715257e-01,  -3.19433963e-01],\n",
        "       [ -2.28958448e-01,  -7.41489779e-01],\n",
        "       [  5.06440909e-01,  -3.20183327e-01],\n",
        "       [  1.31760158e+00,  -1.18783713e+00],\n",
        "       [  6.38709310e-01,  -7.32543044e-01]])"
       ]
      }
     ],
     "prompt_number": 320
    },
    {
     "cell_type": "code",
     "collapsed": false,
     "input": [
      "soln"
     ],
     "language": "python",
     "metadata": {},
     "outputs": [
      {
       "output_type": "pyout",
       "prompt_number": 321,
       "text": [
        "array([[  1.78317316e-01,   1.03071453e+00],\n",
        "       [ -3.30569905e-01,  -3.29176702e-01],\n",
        "       [  2.16310024e-03,  -7.66137791e-01],\n",
        "       [  1.04395320e-01,  -1.71960113e-01],\n",
        "       [  1.30605817e+00,  -1.46306027e-02],\n",
        "       [  2.12829436e+00,  -1.26984368e+00],\n",
        "       [  1.95858554e-01,  -5.58971361e-01],\n",
        "       [  1.21930362e+00,  -1.06202335e+00],\n",
        "       [  1.22433611e+00,  -7.62371031e-01],\n",
        "       [  2.92549403e+00,  -1.65847649e+00],\n",
        "       [  2.06268380e-01,  -1.49855239e+00],\n",
        "       [ -4.92448104e-01,  -4.91738104e-01],\n",
        "       [  2.96589144e-01,   1.89918766e-02],\n",
        "       [ -2.21498435e-01,   2.34641961e-01],\n",
        "       [  8.85081131e-01,  -4.89038236e-02],\n",
        "       [  7.68295042e-02,   8.75872754e-01],\n",
        "       [  1.28334502e+00,  -1.58829534e+00],\n",
        "       [  4.88694332e+00,  -1.71937035e+00],\n",
        "       [  5.38163674e+00,  -1.69781619e+00],\n",
        "       [  5.67694639e+00,  -1.33994006e+00],\n",
        "       [  7.21954860e-01,  -2.21323827e+00],\n",
        "       [  5.45976702e-01,  -1.07700650e+00],\n",
        "       [  2.24233484e+01,   1.35841895e+01],\n",
        "       [  1.71779895e+00,  -1.12671073e+00],\n",
        "       [  9.27782384e-01,  -2.05881639e+00],\n",
        "       [  1.01580801e-01,  -3.20070883e-01],\n",
        "       [ -2.28834475e-01,  -7.41478566e-01],\n",
        "       [  5.11343269e-01,  -3.12117080e-01],\n",
        "       [  1.31656019e+00,  -1.18865785e+00],\n",
        "       [  6.38191469e-01,  -7.32264609e-01]])"
       ]
      }
     ],
     "prompt_number": 321
    },
    {
     "cell_type": "heading",
     "level": 2,
     "metadata": {},
     "source": [
      "Path of solutions"
     ]
    },
    {
     "cell_type": "code",
     "collapsed": false,
     "input": [
      "\n",
      "from regreg.paths import loss_factory\n",
      "class betareg_factory(loss_factory):\n",
      "\n",
      "    def __call__(self, X):\n",
      "        n, p = X.shape\n",
      "        T = ra.composition(ra.tensorize(X, 2), ra.reshape((2*p,), (p,2)))\n",
      "        return rr.affine_smooth(beta_loglikelihood(self.response), T)\n",
      "\n",
      "lasso = rr.lasso(betareg_factory(Y), X, penalty_structure=penalty_structure, intercept=False)"
     ],
     "language": "python",
     "metadata": {},
     "outputs": [
      {
       "ename": "ValueError",
       "evalue": "operands could not be broadcast together with shapes (30) (60) ",
       "output_type": "pyerr",
       "traceback": [
        "\u001b[0;31m---------------------------------------------------------------------------\u001b[0m\n\u001b[0;31mValueError\u001b[0m                                Traceback (most recent call last)",
        "\u001b[0;32m<ipython-input-324-3035989a222e>\u001b[0m in \u001b[0;36m<module>\u001b[0;34m()\u001b[0m\n\u001b[1;32m      8\u001b[0m         \u001b[0;32mreturn\u001b[0m \u001b[0mrr\u001b[0m\u001b[0;34m.\u001b[0m\u001b[0maffine_smooth\u001b[0m\u001b[0;34m(\u001b[0m\u001b[0mbeta_loglikelihood\u001b[0m\u001b[0;34m(\u001b[0m\u001b[0mself\u001b[0m\u001b[0;34m.\u001b[0m\u001b[0mresponse\u001b[0m\u001b[0;34m)\u001b[0m\u001b[0;34m,\u001b[0m \u001b[0mT\u001b[0m\u001b[0;34m)\u001b[0m\u001b[0;34m\u001b[0m\u001b[0m\n\u001b[1;32m      9\u001b[0m \u001b[0;34m\u001b[0m\u001b[0m\n\u001b[0;32m---> 10\u001b[0;31m \u001b[0mlasso\u001b[0m \u001b[0;34m=\u001b[0m \u001b[0mrr\u001b[0m\u001b[0;34m.\u001b[0m\u001b[0mlasso\u001b[0m\u001b[0;34m(\u001b[0m\u001b[0mbetareg_factory\u001b[0m\u001b[0;34m(\u001b[0m\u001b[0mY\u001b[0m\u001b[0;34m)\u001b[0m\u001b[0;34m,\u001b[0m \u001b[0mX\u001b[0m\u001b[0;34m,\u001b[0m \u001b[0mpenalty_structure\u001b[0m\u001b[0;34m=\u001b[0m\u001b[0mpenalty_structure\u001b[0m\u001b[0;34m,\u001b[0m \u001b[0mintercept\u001b[0m\u001b[0;34m=\u001b[0m\u001b[0mFalse\u001b[0m\u001b[0;34m)\u001b[0m\u001b[0;34m\u001b[0m\u001b[0m\n\u001b[0m",
        "\u001b[0;32m/Users/jonathantaylor/.local/lib/python2.7/site-packages/regreg/paths.pyc\u001b[0m in \u001b[0;36m__init__\u001b[0;34m(self, loss_factory, X, penalty_structure, group_weights, elastic_net, alpha, intercept, positive_part, unpenalized, lagrange_proportion, nstep, scale, center)\u001b[0m\n\u001b[1;32m     64\u001b[0m             \u001b[0mself\u001b[0m\u001b[0;34m.\u001b[0m\u001b[0mpenalty_structure\u001b[0m \u001b[0;34m=\u001b[0m \u001b[0mnp\u001b[0m\u001b[0;34m.\u001b[0m\u001b[0mones\u001b[0m\u001b[0;34m(\u001b[0m\u001b[0mp\u001b[0m\u001b[0;34m)\u001b[0m \u001b[0;34m*\u001b[0m \u001b[0mL1_PENALTY\u001b[0m\u001b[0;34m\u001b[0m\u001b[0m\n\u001b[1;32m     65\u001b[0m             \u001b[0;32mif\u001b[0m \u001b[0mpenalty_structure\u001b[0m \u001b[0;32mis\u001b[0m \u001b[0;32mnot\u001b[0m \u001b[0mNone\u001b[0m\u001b[0;34m:\u001b[0m\u001b[0;34m\u001b[0m\u001b[0m\n\u001b[0;32m---> 66\u001b[0;31m                 \u001b[0mself\u001b[0m\u001b[0;34m.\u001b[0m\u001b[0mpenalty_structure\u001b[0m\u001b[0;34m[\u001b[0m\u001b[0;34m:\u001b[0m\u001b[0;34m]\u001b[0m \u001b[0;34m=\u001b[0m \u001b[0mpenalty_structure\u001b[0m\u001b[0;34m\u001b[0m\u001b[0m\n\u001b[0m\u001b[1;32m     67\u001b[0m \u001b[0;34m\u001b[0m\u001b[0m\n\u001b[1;32m     68\u001b[0m             \u001b[0;32mif\u001b[0m \u001b[0mself\u001b[0m\u001b[0;34m.\u001b[0m\u001b[0mscale\u001b[0m \u001b[0;32mor\u001b[0m \u001b[0mself\u001b[0m\u001b[0;34m.\u001b[0m\u001b[0mcenter\u001b[0m\u001b[0;34m:\u001b[0m\u001b[0;34m\u001b[0m\u001b[0m\n",
        "\u001b[0;31mValueError\u001b[0m: operands could not be broadcast together with shapes (30) (60) "
       ]
      }
     ],
     "prompt_number": 324
    },
    {
     "cell_type": "code",
     "collapsed": false,
     "input": [],
     "language": "python",
     "metadata": {},
     "outputs": []
    }
   ],
   "metadata": {}
  }
 ]
}