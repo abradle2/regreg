{
 "metadata": {
  "name": "Beta regression"
 },
 "nbformat": 3,
 "nbformat_minor": 0,
 "worksheets": [
  {
   "cells": [
    {
     "cell_type": "code",
     "collapsed": false,
     "input": [
      "import numpy as np, regreg.api as rr\n",
      "import scipy.special\n"
     ],
     "language": "python",
     "metadata": {},
     "outputs": [],
     "prompt_number": 1
    },
    {
     "cell_type": "code",
     "collapsed": false,
     "input": [
      "class beta_loglikelihood(rr.smooth_atom):\n",
      "    \n",
      "    def __init__(self, proportions,\n",
      "                 coef=1.,\n",
      "                 offset=None,\n",
      "                 quadratic=None,\n",
      "                 initial=None):\n",
      "    \n",
      "        self.proportions = proportions.reshape(-1)\n",
      "        self.primal_shape = proportions.shape + (2,)\n",
      "        rr.smooth_atom.__init__(self, self.primal_shape,\n",
      "                                offset=offset,\n",
      "                                coef=coef,\n",
      "                                quadratic=quadratic,\n",
      "                                initial=initial)\n",
      "    def smooth_objective(self, x, mode='both', check_feasibility=False):\n",
      "        \"\"\"\n",
      "        Evaluate a smooth function and/or its gradient\n",
      "\n",
      "        if mode == 'both', return both function value and gradient\n",
      "        if mode == 'grad', return only the gradient\n",
      "        if mode == 'func', return only the function value\n",
      "        \"\"\"\n",
      "        \n",
      "        omega = np.exp(x[:,0])\n",
      "        tau = np.exp(x[:,1])\n",
      "        \n",
      "        if mode == 'func':\n",
      "            v = scipy.special.betaln(omega, tau).sum()\n",
      "            v -= ((omega - 1.) * np.log(self.proportions)).sum()\n",
      "            v -= ((tau - 1.) * np.log(1.-self.proportions)).sum()\n",
      "            \n",
      "            return v\n",
      "        elif mode == 'both':\n",
      "            v = scipy.special.betaln(omega, tau).sum()\n",
      "            v -= ((omega - 1.) * np.log(self.proportions)).sum()\n",
      "            v -= ((tau - 1.) * np.log(1.-self.proportions)).sum()\n",
      "            g_omega = (-np.log(self.proportions) + (scipy.special.digamma(omega) - scipy.special.digamma(omega+tau))) * omega\n",
      "            g_tau = (-np.log(1-self.proportions) + (scipy.special.digamma(tau) - scipy.special.digamma(omega+tau))) * tau\n",
      "            g = np.array([g_omega, g_tau]).T\n",
      "            return v, g\n",
      "        elif mode == 'grad':\n",
      "            g_omega = (-np.log(self.proportions) + (scipy.special.digamma(omega) - scipy.special.digamma(omega+tau))) * omega\n",
      "            g_tau = (-np.log(1-self.proportions) + (scipy.special.digamma(tau) - scipy.special.digamma(omega+tau))) * tau\n",
      "            g = np.array([g_omega, g_tau]).T\n",
      "            return g\n",
      "        else:\n",
      "            raise ValueError(\"mode incorrectly specified\")\n",
      "            \n"
     ],
     "language": "python",
     "metadata": {},
     "outputs": [],
     "prompt_number": 69
    },
    {
     "cell_type": "code",
     "collapsed": false,
     "input": [
      "proportions = np.random.binomial(10, 0.5, size=(100,)) / 12. + 0.01\n",
      "logl = beta_loglikelihood(proportions)"
     ],
     "language": "python",
     "metadata": {},
     "outputs": [],
     "prompt_number": 70
    },
    {
     "cell_type": "code",
     "collapsed": false,
     "input": [
      "logl.smooth_objective(np.ones((100,2))*2., mode='both')\n",
      "penalty = rr.l1_l2((100,2), lagrange=3.)\n",
      "\n",
      "problem = rr.simple_problem(logl, penalty)\n",
      "problem.coefs[:] = np.ones((100,2))*2.\n",
      "problem.solve()"
     ],
     "language": "python",
     "metadata": {},
     "outputs": [
      {
       "output_type": "pyout",
       "prompt_number": 71,
       "text": [
        "array([[-0.,  0.],\n",
        "       [-0.,  0.],\n",
        "       [-0.,  0.],\n",
        "       [ 0.,  0.],\n",
        "       [-0.,  0.],\n",
        "       [ 0.,  0.],\n",
        "       [ 0.,  0.],\n",
        "       [-0.,  0.],\n",
        "       [ 0.,  0.],\n",
        "       [ 0., -0.],\n",
        "       [ 0.,  0.],\n",
        "       [-0.,  0.],\n",
        "       [-0.,  0.],\n",
        "       [-0.,  0.],\n",
        "       [ 0., -0.],\n",
        "       [-0.,  0.],\n",
        "       [-0.,  0.],\n",
        "       [ 0., -0.],\n",
        "       [ 0.,  0.],\n",
        "       [ 0.,  0.],\n",
        "       [-0.,  0.],\n",
        "       [ 0.,  0.],\n",
        "       [ 0.,  0.],\n",
        "       [-0.,  0.],\n",
        "       [ 0.,  0.],\n",
        "       [ 0., -0.],\n",
        "       [ 0., -0.],\n",
        "       [ 0.,  0.],\n",
        "       [-0.,  0.],\n",
        "       [ 0.,  0.],\n",
        "       [ 0.,  0.],\n",
        "       [-0.,  0.],\n",
        "       [-0.,  0.],\n",
        "       [ 0.,  0.],\n",
        "       [ 0.,  0.],\n",
        "       [-0.,  0.],\n",
        "       [-0.,  0.],\n",
        "       [-0.,  0.],\n",
        "       [ 0.,  0.],\n",
        "       [ 0.,  0.],\n",
        "       [ 0.,  0.],\n",
        "       [ 0.,  0.],\n",
        "       [-0.,  0.],\n",
        "       [ 0.,  0.],\n",
        "       [-0.,  0.],\n",
        "       [ 0.,  0.],\n",
        "       [-0.,  0.],\n",
        "       [-0.,  0.],\n",
        "       [ 0.,  0.],\n",
        "       [ 0.,  0.],\n",
        "       [ 0.,  0.],\n",
        "       [ 0.,  0.],\n",
        "       [ 0.,  0.],\n",
        "       [-0.,  0.],\n",
        "       [-0.,  0.],\n",
        "       [-0.,  0.],\n",
        "       [ 0.,  0.],\n",
        "       [-0.,  0.],\n",
        "       [ 0.,  0.],\n",
        "       [-0.,  0.],\n",
        "       [ 0.,  0.],\n",
        "       [-0.,  0.],\n",
        "       [-0.,  0.],\n",
        "       [-0.,  0.],\n",
        "       [ 0.,  0.],\n",
        "       [ 0.,  0.],\n",
        "       [ 0.,  0.],\n",
        "       [-0.,  0.],\n",
        "       [ 0.,  0.],\n",
        "       [ 0.,  0.],\n",
        "       [ 0.,  0.],\n",
        "       [ 0.,  0.],\n",
        "       [ 0.,  0.],\n",
        "       [ 0.,  0.],\n",
        "       [ 0.,  0.],\n",
        "       [-0.,  0.],\n",
        "       [ 0.,  0.],\n",
        "       [-0.,  0.],\n",
        "       [ 0.,  0.],\n",
        "       [ 0.,  0.],\n",
        "       [ 0.,  0.],\n",
        "       [ 0.,  0.],\n",
        "       [-0.,  0.],\n",
        "       [-0.,  0.],\n",
        "       [ 0.,  0.],\n",
        "       [ 0., -0.],\n",
        "       [-0.,  0.],\n",
        "       [ 0., -0.],\n",
        "       [-0.,  0.],\n",
        "       [ 0.,  0.],\n",
        "       [-0.,  0.],\n",
        "       [ 0.,  0.],\n",
        "       [ 0.,  0.],\n",
        "       [-0.,  0.],\n",
        "       [ 0.,  0.],\n",
        "       [-0.,  0.],\n",
        "       [ 0.,  0.],\n",
        "       [-0.,  0.],\n",
        "       [-0.,  0.],\n",
        "       [ 0.,  0.]])"
       ]
      }
     ],
     "prompt_number": 71
    },
    {
     "cell_type": "code",
     "collapsed": false,
     "input": [
      "%load_ext rmagic\n",
      "%R -d d d = read.table('data812.txt')"
     ],
     "language": "python",
     "metadata": {},
     "outputs": [
      {
       "output_type": "pyout",
       "prompt_number": 72,
       "text": [
        "array([[ 0.9996601 ,  0.44750854,  0.30306972, ...,  0.9996601 ,\n",
        "         0.9996601 ,  0.23590949],\n",
        "       [ 0.        ,  0.        ,  0.        , ...,  0.        ,\n",
        "         0.        ,  0.        ],\n",
        "       [ 0.        ,  0.        ,  0.        , ...,  0.        ,\n",
        "         0.        ,  0.        ],\n",
        "       ..., \n",
        "       [ 0.        ,  0.        ,  0.        , ...,  0.        ,\n",
        "         0.        ,  0.        ],\n",
        "       [ 0.        ,  0.        ,  0.        , ...,  0.        ,\n",
        "         0.        ,  0.        ],\n",
        "       [ 0.        ,  0.        ,  0.        , ...,  0.        ,\n",
        "         0.        ,  0.        ]])"
       ]
      }
     ],
     "prompt_number": 72
    },
    {
     "cell_type": "code",
     "collapsed": false,
     "input": [
      "%%R -o X,Y\n",
      "d = read.table('data812.txt')\n",
      "X = as.matrix(d[,2:ncol(d)])\n",
      "Y = d[,1]\n",
      "print(dim(X))"
     ],
     "language": "python",
     "metadata": {},
     "outputs": [
      {
       "output_type": "display_data",
       "text": [
        "[1] 1471   29\n"
       ]
      }
     ],
     "prompt_number": 73
    },
    {
     "cell_type": "code",
     "collapsed": false,
     "input": [
      "Y.shape, X.shape"
     ],
     "language": "python",
     "metadata": {},
     "outputs": [
      {
       "output_type": "pyout",
       "prompt_number": 74,
       "text": [
        "((1471,), (1471, 29))"
       ]
      }
     ],
     "prompt_number": 74
    },
    {
     "cell_type": "code",
     "collapsed": false,
     "input": [
      "loss = rr.affine_smooth(beta_loglikelihood(Y), X)\n",
      "loss.primal_shape = (29,2)\n",
      "penalty = rr.l1_l2((29,2), lagrange=10)\n",
      "problem = rr.simple_problem(loss, penalty)\n",
      "problem.coefs[:]= np.ones((29,2)) * 1.e-04\n",
      "\n",
      "loss.smooth_objective(problem.coefs, mode='func')\n",
      "soln = problem.solve()"
     ],
     "language": "python",
     "metadata": {},
     "outputs": [],
     "prompt_number": 79
    },
    {
     "cell_type": "code",
     "collapsed": false,
     "input": [
      "problem.coefs"
     ],
     "language": "python",
     "metadata": {},
     "outputs": [
      {
       "output_type": "pyout",
       "prompt_number": 80,
       "text": [
        "array([[  1.43017704e-03,  -7.10293126e-03],\n",
        "       [  9.22447461e-02,  -2.32217920e-01],\n",
        "       [  0.00000000e+00,  -0.00000000e+00],\n",
        "       [  3.10938703e-01,  -1.66598285e-01],\n",
        "       [  6.41207128e-01,  -9.46361311e-01],\n",
        "       [  0.00000000e+00,  -0.00000000e+00],\n",
        "       [  1.11369284e+00,  -5.08460614e-01],\n",
        "       [  1.51406437e-01,  -3.22450627e-01],\n",
        "       [  6.83136646e-01,  -1.18638022e+00],\n",
        "       [  4.24190226e-02,  -1.02307555e-01],\n",
        "       [  1.17359755e-02,  -6.50619905e-02],\n",
        "       [  0.00000000e+00,  -0.00000000e+00],\n",
        "       [ -8.08059356e-02,   6.03908918e-02],\n",
        "       [  9.32789887e-02,  -1.12631901e-01],\n",
        "       [ -0.00000000e+00,   0.00000000e+00],\n",
        "       [  1.34693226e+00,  -9.40487225e-01],\n",
        "       [  4.45952955e-01,  -1.23017873e+00],\n",
        "       [  2.96431521e-01,  -1.04273723e+00],\n",
        "       [  4.65623142e+00,  -8.43366268e-01],\n",
        "       [  1.44133262e-01,  -5.06429696e-01],\n",
        "       [  0.00000000e+00,  -0.00000000e+00],\n",
        "       [  4.18862629e-01,  -1.28281894e+00],\n",
        "       [  1.61955247e+00,  -6.28404591e-01],\n",
        "       [  5.24030649e-01,  -1.10921785e+00],\n",
        "       [  1.29360643e-01,  -2.28176796e-01],\n",
        "       [  1.24383930e-02,  -8.42906533e-02],\n",
        "       [  6.45030903e-02,  -1.44383071e-01],\n",
        "       [  3.56478443e-01,  -6.66245671e-01],\n",
        "       [  1.79816626e-01,  -3.55948762e-01]])"
       ]
      }
     ],
     "prompt_number": 80
    },
    {
     "cell_type": "code",
     "collapsed": false,
     "input": [
      "np.dot(X, problem.coefs)"
     ],
     "language": "python",
     "metadata": {},
     "outputs": [
      {
       "output_type": "pyout",
       "prompt_number": 68,
       "text": [
        "array([[ 0.0001,  0.0001],\n",
        "       [ 0.    ,  0.    ],\n",
        "       [ 0.    ,  0.    ],\n",
        "       ..., \n",
        "       [ 0.0002,  0.0002],\n",
        "       [ 0.0001,  0.0001],\n",
        "       [ 0.0001,  0.0001]])"
       ]
      }
     ],
     "prompt_number": 68
    },
    {
     "cell_type": "code",
     "collapsed": false,
     "input": [
      "ra.tensor??"
     ],
     "language": "python",
     "metadata": {},
     "outputs": [],
     "prompt_number": 48
    },
    {
     "cell_type": "code",
     "collapsed": false,
     "input": [],
     "language": "python",
     "metadata": {},
     "outputs": []
    }
   ],
   "metadata": {}
  }
 ]
}