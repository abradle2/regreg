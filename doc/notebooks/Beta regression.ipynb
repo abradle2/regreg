{
 "metadata": {
  "name": "Beta regression"
 },
 "nbformat": 3,
 "nbformat_minor": 0,
 "worksheets": [
  {
   "cells": [
    {
     "cell_type": "code",
     "collapsed": false,
     "input": [
      "import numpy as np, regreg.api as rr, regreg.affine as ra\n",
      "import scipy.special\n"
     ],
     "language": "python",
     "metadata": {},
     "outputs": [],
     "prompt_number": 31
    },
    {
     "cell_type": "code",
     "collapsed": false,
     "input": [
      "class beta_loglikelihood(rr.smooth_atom):\n",
      "    \n",
      "    def __init__(self, proportions,\n",
      "                 coef=1.,\n",
      "                 offset=None,\n",
      "                 quadratic=None,\n",
      "                 initial=None):\n",
      "    \n",
      "        self.proportions = proportions.reshape(-1)\n",
      "        self.primal_shape = proportions.shape + (2,)\n",
      "        rr.smooth_atom.__init__(self, self.primal_shape,\n",
      "                                offset=offset,\n",
      "                                coef=coef,\n",
      "                                quadratic=quadratic,\n",
      "                                initial=initial)\n",
      "    def smooth_objective(self, x, mode='both', check_feasibility=False):\n",
      "        \"\"\"\n",
      "        Evaluate a smooth function and/or its gradient\n",
      "\n",
      "        if mode == 'both', return both function value and gradient\n",
      "        if mode == 'grad', return only the gradient\n",
      "        if mode == 'func', return only the function value\n",
      "        \"\"\"\n",
      "        x = x.reshape(self.primal_shape)\n",
      "        omega = np.exp(x[:,0])\n",
      "        tau = np.exp(x[:,1])\n",
      "        \n",
      "        if mode == 'func':\n",
      "            v = scipy.special.betaln(omega, tau).sum()\n",
      "            v -= ((omega - 1.) * np.log(self.proportions)).sum()\n",
      "            v -= ((tau - 1.) * np.log(1.-self.proportions)).sum()\n",
      "            \n",
      "            return v\n",
      "        elif mode == 'both':\n",
      "            v = scipy.special.betaln(omega, tau).sum()\n",
      "            v -= ((omega - 1.) * np.log(self.proportions)).sum()\n",
      "            v -= ((tau - 1.) * np.log(1.-self.proportions)).sum()\n",
      "            g_omega = (-np.log(self.proportions) + (scipy.special.digamma(omega) - scipy.special.digamma(omega+tau))) * omega\n",
      "            g_tau = (-np.log(1-self.proportions) + (scipy.special.digamma(tau) - scipy.special.digamma(omega+tau))) * tau\n",
      "            g = np.array([g_omega, g_tau]).T\n",
      "            return v, g\n",
      "        elif mode == 'grad':\n",
      "            g_omega = (-np.log(self.proportions) + (scipy.special.digamma(omega) - scipy.special.digamma(omega+tau))) * omega\n",
      "            g_tau = (-np.log(1-self.proportions) + (scipy.special.digamma(tau) - scipy.special.digamma(omega+tau))) * tau\n",
      "            g = np.array([g_omega, g_tau]).T\n",
      "            return g\n",
      "        else:\n",
      "            raise ValueError(\"mode incorrectly specified\")\n",
      "            \n"
     ],
     "language": "python",
     "metadata": {},
     "outputs": [],
     "prompt_number": 32
    },
    {
     "cell_type": "code",
     "collapsed": false,
     "input": [
      "proportions = np.random.binomial(10, 0.5, size=(100,)) / 12. + 0.01\n",
      "logl = beta_loglikelihood(proportions)"
     ],
     "language": "python",
     "metadata": {},
     "outputs": [],
     "prompt_number": 33
    },
    {
     "cell_type": "code",
     "collapsed": false,
     "input": [
      "logl.smooth_objective(np.ones((100,2))*2., mode='both')\n",
      "penalty = rr.l1_l2((100,2), lagrange=3.)\n",
      "\n",
      "problem = rr.simple_problem(logl, penalty)\n",
      "problem.coefs[:] = np.ones((100,2))*2.\n",
      "soln = problem.solve()"
     ],
     "language": "python",
     "metadata": {},
     "outputs": [],
     "prompt_number": 34
    },
    {
     "cell_type": "code",
     "collapsed": false,
     "input": [
      "%load_ext rmagic\n"
     ],
     "language": "python",
     "metadata": {},
     "outputs": [],
     "prompt_number": 35
    },
    {
     "cell_type": "code",
     "collapsed": false,
     "input": [
      "%%R -o X,Y\n",
      "d = read.table('data812.txt')\n",
      "X = as.matrix(d[,2:ncol(d)])\n",
      "Y = d[,1]\n",
      "print(dim(X))"
     ],
     "language": "python",
     "metadata": {},
     "outputs": [
      {
       "output_type": "display_data",
       "text": [
        "[1] 1471   29\n"
       ]
      }
     ],
     "prompt_number": 36
    },
    {
     "cell_type": "code",
     "collapsed": false,
     "input": [
      "Y.shape, X.shape\n"
     ],
     "language": "python",
     "metadata": {},
     "outputs": [
      {
       "output_type": "pyout",
       "prompt_number": 37,
       "text": [
        "((1471,), (1471, 29))"
       ]
      }
     ],
     "prompt_number": 37
    },
    {
     "cell_type": "code",
     "collapsed": false,
     "input": [
      "n, p = X.shape\n",
      "lagrange = 1.\n",
      "X = np.hstack([np.ones((n,1)),X])\n",
      "n, p = X.shape"
     ],
     "language": "python",
     "metadata": {},
     "outputs": [],
     "prompt_number": 38
    },
    {
     "cell_type": "code",
     "collapsed": false,
     "input": [
      "loss = rr.affine_smooth(beta_loglikelihood(Y), X)\n",
      "loss.primal_shape = (30,2)\n",
      "penalty = rr.l1_l2((30,2), lagrange=lagrange)\n",
      "problem = rr.simple_problem(loss, penalty)\n",
      "soln = problem.solve(tol=1.e-12)"
     ],
     "language": "python",
     "metadata": {},
     "outputs": [],
     "prompt_number": 39
    },
    {
     "cell_type": "code",
     "collapsed": false,
     "input": [
      "soln"
     ],
     "language": "python",
     "metadata": {},
     "outputs": [
      {
       "output_type": "pyout",
       "prompt_number": 40,
       "text": [
        "array([[  1.78317316e-01,   1.03071453e+00],\n",
        "       [ -3.30569905e-01,  -3.29176702e-01],\n",
        "       [  2.16310024e-03,  -7.66137791e-01],\n",
        "       [  1.04395320e-01,  -1.71960113e-01],\n",
        "       [  1.30605817e+00,  -1.46306027e-02],\n",
        "       [  2.12829436e+00,  -1.26984368e+00],\n",
        "       [  1.95858554e-01,  -5.58971361e-01],\n",
        "       [  1.21930362e+00,  -1.06202335e+00],\n",
        "       [  1.22433611e+00,  -7.62371031e-01],\n",
        "       [  2.92549403e+00,  -1.65847649e+00],\n",
        "       [  2.06268380e-01,  -1.49855239e+00],\n",
        "       [ -4.92448104e-01,  -4.91738104e-01],\n",
        "       [  2.96589144e-01,   1.89918766e-02],\n",
        "       [ -2.21498435e-01,   2.34641961e-01],\n",
        "       [  8.85081131e-01,  -4.89038236e-02],\n",
        "       [  7.68295042e-02,   8.75872754e-01],\n",
        "       [  1.28334502e+00,  -1.58829534e+00],\n",
        "       [  4.88694332e+00,  -1.71937035e+00],\n",
        "       [  5.38163674e+00,  -1.69781619e+00],\n",
        "       [  5.67694639e+00,  -1.33994006e+00],\n",
        "       [  7.21954860e-01,  -2.21323827e+00],\n",
        "       [  5.45976702e-01,  -1.07700650e+00],\n",
        "       [  2.24233484e+01,   1.35841895e+01],\n",
        "       [  1.71779895e+00,  -1.12671073e+00],\n",
        "       [  9.27782384e-01,  -2.05881639e+00],\n",
        "       [  1.01580801e-01,  -3.20070883e-01],\n",
        "       [ -2.28834475e-01,  -7.41478566e-01],\n",
        "       [  5.11343269e-01,  -3.12117080e-01],\n",
        "       [  1.31656019e+00,  -1.18865785e+00],\n",
        "       [  6.38191469e-01,  -7.32264609e-01]])"
       ]
      }
     ],
     "prompt_number": 40
    },
    {
     "cell_type": "code",
     "collapsed": false,
     "input": [
      "print X.shape\n",
      "Xbeta1 = np.dot(X, problem.coefs)"
     ],
     "language": "python",
     "metadata": {},
     "outputs": [
      {
       "output_type": "stream",
       "stream": "stdout",
       "text": [
        "(1471, 30)\n"
       ]
      }
     ],
     "prompt_number": 41
    },
    {
     "cell_type": "heading",
     "level": 2,
     "metadata": {},
     "source": [
      "Using group LASSO notation (OK -- my group LASSO notation)"
     ]
    },
    {
     "cell_type": "code",
     "collapsed": false,
     "input": [
      "\n",
      "penalty_structure = np.array([[rr.UNPENALIZED]*2] + [[i]*2 for i in range(p-1)]).reshape(-1)\n",
      "penalty = rr.group_lasso(penalty_structure, lagrange / np.sqrt(2))\n",
      "T = ra.composition(ra.tensorize(X, 2), ra.reshape((2*p,), (p,2)))\n",
      "loss = rr.affine_smooth(beta_loglikelihood(Y), T)\n",
      "\n",
      "problem_gl = rr.simple_problem(loss, penalty)\n",
      "b = problem_gl.solve(tol=1.e-12)\n"
     ],
     "language": "python",
     "metadata": {},
     "outputs": [],
     "prompt_number": 42
    },
    {
     "cell_type": "code",
     "collapsed": false,
     "input": [
      "print penalty_structure"
     ],
     "language": "python",
     "metadata": {},
     "outputs": [
      {
       "output_type": "stream",
       "stream": "stdout",
       "text": [
        "[-1 -1  0  0  1  1  2  2  3  3  4  4  5  5  6  6  7  7  8  8  9  9 10 10 11\n",
        " 11 12 12 13 13 14 14 15 15 16 16 17 17 18 18 19 19 20 20 21 21 22 22 23 23\n",
        " 24 24 25 25 26 26 27 27 28 28]\n"
       ]
      }
     ],
     "prompt_number": 43
    },
    {
     "cell_type": "code",
     "collapsed": false,
     "input": [
      "b = b.reshape((p,2))\n",
      "Xbeta2 = np.dot(X, b)\n"
     ],
     "language": "python",
     "metadata": {},
     "outputs": [],
     "prompt_number": 44
    },
    {
     "cell_type": "code",
     "collapsed": false,
     "input": [
      "import pylab\n",
      "pylab.figure(num=1); pylab.clf(); pylab.scatter(Xbeta1[:,0], Xbeta2[:,0])\n",
      "pylab.figure(num=2); pylab.clf(); pylab.scatter(Xbeta1[:,1], Xbeta2[:,1])\n"
     ],
     "language": "python",
     "metadata": {},
     "outputs": [
      {
       "output_type": "pyout",
       "prompt_number": 45,
       "text": [
        "<matplotlib.collections.PathCollection at 0x10bb22210>"
       ]
      },
      {
       "output_type": "display_data",
       "png": "[encoded data removed]"
      },
      {
       "output_type": "display_data",
       "png": "[encoded data removed]"
      }
     ],
     "prompt_number": 45
    },
    {
     "cell_type": "code",
     "collapsed": false,
     "input": [
      "b"
     ],
     "language": "python",
     "metadata": {},
     "outputs": [
      {
       "output_type": "pyout",
       "prompt_number": 46,
       "text": [
        "array([[  1.80123343e-01,   1.03307214e+00],\n",
        "       [ -3.35151407e-01,  -3.33737931e-01],\n",
        "       [ -2.08846194e-03,  -7.68937419e-01],\n",
        "       [  1.05810568e-01,  -1.72056650e-01],\n",
        "       [  1.31930544e+00,  -8.91508149e-03],\n",
        "       [  2.12775581e+00,  -1.27059780e+00],\n",
        "       [  1.95661780e-01,  -5.60297249e-01],\n",
        "       [  1.21804797e+00,  -1.06318322e+00],\n",
        "       [  1.22248706e+00,  -7.63753778e-01],\n",
        "       [  2.94020184e+00,  -1.65080858e+00],\n",
        "       [  2.02562902e-01,  -1.50180436e+00],\n",
        "       [ -4.91792384e-01,  -4.91126394e-01],\n",
        "       [  2.94533925e-01,   1.82293896e-02],\n",
        "       [ -2.23101925e-01,   2.32811357e-01],\n",
        "       [  8.84454050e-01,  -4.92423861e-02],\n",
        "       [  7.85368292e-02,   8.77101826e-01],\n",
        "       [  1.28007871e+00,  -1.58981093e+00],\n",
        "       [  4.84603397e+00,  -1.74235722e+00],\n",
        "       [  5.28169974e+00,  -1.74943034e+00],\n",
        "       [  5.67103241e+00,  -1.34264376e+00],\n",
        "       [  7.20870675e-01,  -2.21666888e+00],\n",
        "       [  5.46636992e-01,  -1.07712804e+00],\n",
        "       [  2.24262495e+01,   1.35865546e+01],\n",
        "       [  1.72439197e+00,  -1.12502662e+00],\n",
        "       [  9.28457591e-01,  -2.05993943e+00],\n",
        "       [  1.00715257e-01,  -3.19433963e-01],\n",
        "       [ -2.28958448e-01,  -7.41489779e-01],\n",
        "       [  5.06440909e-01,  -3.20183327e-01],\n",
        "       [  1.31760158e+00,  -1.18783713e+00],\n",
        "       [  6.38709310e-01,  -7.32543044e-01]])"
       ]
      }
     ],
     "prompt_number": 46
    },
    {
     "cell_type": "code",
     "collapsed": false,
     "input": [
      "soln"
     ],
     "language": "python",
     "metadata": {},
     "outputs": [
      {
       "output_type": "pyout",
       "prompt_number": 47,
       "text": [
        "array([[  1.78317316e-01,   1.03071453e+00],\n",
        "       [ -3.30569905e-01,  -3.29176702e-01],\n",
        "       [  2.16310024e-03,  -7.66137791e-01],\n",
        "       [  1.04395320e-01,  -1.71960113e-01],\n",
        "       [  1.30605817e+00,  -1.46306027e-02],\n",
        "       [  2.12829436e+00,  -1.26984368e+00],\n",
        "       [  1.95858554e-01,  -5.58971361e-01],\n",
        "       [  1.21930362e+00,  -1.06202335e+00],\n",
        "       [  1.22433611e+00,  -7.62371031e-01],\n",
        "       [  2.92549403e+00,  -1.65847649e+00],\n",
        "       [  2.06268380e-01,  -1.49855239e+00],\n",
        "       [ -4.92448104e-01,  -4.91738104e-01],\n",
        "       [  2.96589144e-01,   1.89918766e-02],\n",
        "       [ -2.21498435e-01,   2.34641961e-01],\n",
        "       [  8.85081131e-01,  -4.89038236e-02],\n",
        "       [  7.68295042e-02,   8.75872754e-01],\n",
        "       [  1.28334502e+00,  -1.58829534e+00],\n",
        "       [  4.88694332e+00,  -1.71937035e+00],\n",
        "       [  5.38163674e+00,  -1.69781619e+00],\n",
        "       [  5.67694639e+00,  -1.33994006e+00],\n",
        "       [  7.21954860e-01,  -2.21323827e+00],\n",
        "       [  5.45976702e-01,  -1.07700650e+00],\n",
        "       [  2.24233484e+01,   1.35841895e+01],\n",
        "       [  1.71779895e+00,  -1.12671073e+00],\n",
        "       [  9.27782384e-01,  -2.05881639e+00],\n",
        "       [  1.01580801e-01,  -3.20070883e-01],\n",
        "       [ -2.28834475e-01,  -7.41478566e-01],\n",
        "       [  5.11343269e-01,  -3.12117080e-01],\n",
        "       [  1.31656019e+00,  -1.18865785e+00],\n",
        "       [  6.38191469e-01,  -7.32264609e-01]])"
       ]
      }
     ],
     "prompt_number": 47
    },
    {
     "cell_type": "heading",
     "level": 2,
     "metadata": {},
     "source": [
      "Path of solutions"
     ]
    },
    {
     "cell_type": "code",
     "collapsed": false,
     "input": [
      "X[:,1:] -= X[:,1:].mean(0)[np.newaxis,:]\n",
      "from regreg.paths import loss_factory\n",
      "class betareg_factory(loss_factory):\n",
      "\n",
      "    def __call__(self, X):\n",
      "        p = X.shape[1] / 2\n",
      "        X = X[:,::2]\n",
      "        T = ra.composition(ra.tensorize(X, 2), ra.reshape((2*p,), (p,2)))\n",
      "        return rr.affine_smooth(beta_loglikelihood(self.response), T)\n",
      "\n",
      "lasso = rr.lasso(betareg_factory(Y), np.hstack([X,X]), penalty_structure=penalty_structure, intercept=False, scale=False, center=False, lagrange_proportion=.005)\n",
      "#lasso = rr.lasso(betareg_factory(Y), np.hstack([X,X]), penalty_structure=penalty_structure, intercept=False, lagrange_proportion=.0001)\n",
      "results = lasso.main(verbose=True)"
     ],
     "language": "python",
     "metadata": {},
     "outputs": [
      {
       "output_type": "stream",
       "stream": "stdout",
       "text": [
        "1.0 358.116561285 2 -0.000101341658836 1 1.75064250443\n",
        "0.947888540229"
       ]
      },
      {
       "output_type": "stream",
       "stream": "stdout",
       "text": [
        " 339.454584508 2 -0.0001013416649 2 1.75063580395\n",
        "0.898492684697"
       ]
      },
      {
       "output_type": "stream",
       "stream": "stdout",
       "text": [
        " 321.765110583 2 -0.000101341664944 3 1.75063595823\n",
        "0.851670919303"
       ]
      },
      {
       "output_type": "stream",
       "stream": "stdout",
       "text": [
        " 304.997460967 2 -0.000101341664904 4 1.7506359547\n",
        "0.807289104454"
       ]
      },
      {
       "output_type": "stream",
       "stream": "stdout",
       "text": [
        " 289.10359805 2 -0.000101341664904 5 1.75063595476\n",
        "0.765220090763"
       ]
      },
      {
       "output_type": "stream",
       "stream": "stdout",
       "text": [
        " 274.03798753 2 -0.000101341664933 6 1.75063595476\n",
        "0.725343354787"
       ]
      },
      {
       "output_type": "stream",
       "stream": "stdout",
       "text": [
        " 259.757467967 2 -0.000101341664936 7 1.75063595476\n",
        "0.687544653734"
       ]
      },
      {
       "output_type": "stream",
       "stream": "stdout",
       "text": [
        " 246.221127125 2 -0.000101341664936 8 1.75063595476\n",
        "0.65171569817"
       ]
      },
      {
       "output_type": "stream",
       "stream": "stdout",
       "text": [
        " 233.390184764 2 -0.000101341664936 9 1.75063595476\n",
        "0.617753841782"
       ]
      },
      {
       "output_type": "stream",
       "stream": "stdout",
       "text": [
        " 221.22788154 2 -0.000101341664936 10 1.75063595476\n",
        "0.585561787308"
       ]
      },
      {
       "output_type": "stream",
       "stream": "stdout",
       "text": [
        " 209.69937369 2 -0.000101341664936 11 1.75063595476\n",
        "0.555047307785"
       ]
      },
      {
       "output_type": "stream",
       "stream": "stdout",
       "text": [
        " 198.771633214 2 -0.000101341664936 12 1.75063595476\n",
        "failing: [16 17 46 47]\n",
        "0.526122982334"
       ]
      },
      {
       "output_type": "stream",
       "stream": "stdout",
       "text": [
        " 188.413353246 6 -0.0034995405324 13 1.76250939578\n",
        "0.498705945705"
       ]
      },
      {
       "output_type": "stream",
       "stream": "stdout",
       "text": [
        " 178.594858368 6 -0.0155661290048 14 1.80685190195\n",
        "0.472717650878"
       ]
      },
      {
       "output_type": "stream",
       "stream": "stdout",
       "text": [
        " 169.288019591 6 -0.0265883030207 15 1.8506978129\n",
        "0.448083644031"
       ]
      },
      {
       "output_type": "stream",
       "stream": "stdout",
       "text": [
        " 160.466173768 6 -0.0366607404246 16 1.894043608\n",
        "0.424733351241"
       ]
      },
      {
       "output_type": "stream",
       "stream": "stdout",
       "text": [
        " 152.104047209 6 -0.045883551407 17 1.93691653484\n",
        "0.402599876294"
       ]
      },
      {
       "output_type": "stream",
       "stream": "stdout",
       "text": [
        " 144.177683272 6 -0.0543141827075 18 1.97924581521\n",
        "0.381619809037"
       ]
      },
      {
       "output_type": "stream",
       "stream": "stdout",
       "text": [
        " 136.66437373 6 -0.0620464789684 19 2.02112496388\n",
        "0.36173304371"
       ]
      },
      {
       "output_type": "stream",
       "stream": "stdout",
       "text": [
        " 129.542593717 6 -0.0691423769288 20 2.06250942722\n",
        "0.342882606755"
       ]
      },
      {
       "output_type": "stream",
       "stream": "stdout",
       "text": [
        " 122.791940055 6 -0.0756589757049 21 2.10345232608\n",
        "0.325014493587"
       ]
      },
      {
       "output_type": "stream",
       "stream": "stdout",
       "text": [
        " 116.393072811 6 -0.0816452103681 22 2.14393740233\n",
        "0.308077513879"
       ]
      },
      {
       "output_type": "stream",
       "stream": "stdout",
       "text": [
        " 110.32765988 6 -0.0871539229043 23 2.18400182711\n",
        "0.292023144908"
       ]
      },
      {
       "output_type": "stream",
       "stream": "stdout",
       "text": [
        " 104.57832447 6 -0.0922297609593 24 2.22366576419\n",
        "0.27680539254"
       ]
      },
      {
       "output_type": "stream",
       "stream": "stdout",
       "text": [
        " 99.1285953215 6 -0.0969127291412 25 2.26295592809\n",
        "0.262380659462"
       ]
      },
      {
       "output_type": "stream",
       "stream": "stdout",
       "text": [
        " 93.9628595142 6 -0.101239854875 26 2.301900103\n",
        "0.248707620282"
       ]
      },
      {
       "output_type": "stream",
       "stream": "stdout",
       "text": [
        " 89.0663177407 6 -0.105242827168 27 2.34050973433\n",
        "0.235747103133"
       ]
      },
      {
       "output_type": "stream",
       "stream": "stdout",
       "text": [
        " 84.4249419067 6 -0.108957099824 28 2.37886948201\n",
        "0.223461977452"
       ]
      },
      {
       "output_type": "stream",
       "stream": "stdout",
       "text": [
        " 80.0254349429 6 -0.112406706123 29 2.41697601349\n",
        "0.211817047603"
       ]
      },
      {
       "output_type": "stream",
       "stream": "stdout",
       "text": [
        " 75.8551927092 6 -0.115618772381 30 2.45488005775\n",
        "0.200778952048"
       ]
      },
      {
       "output_type": "stream",
       "stream": "stdout",
       "text": [
        " 71.9022678859 6 -0.118615548814 31 2.49260057617\n",
        "0.190316067766"
       ]
      },
      {
       "output_type": "stream",
       "stream": "stdout",
       "text": [
        " 68.1553357455 6 -0.121421462052 32 2.53023229245\n",
        "0.180398419656"
       ]
      },
      {
       "output_type": "stream",
       "stream": "stdout",
       "text": [
        " 64.6036617086 6 -0.124053270806 33 2.5677699821\n",
        "0.170997594668"
       ]
      },
      {
       "output_type": "stream",
       "stream": "stdout",
       "text": [
        " 61.2370705904 6 -0.126531474833 34 2.60530086305\n",
        "0.162086660392"
       ]
      },
      {
       "output_type": "stream",
       "stream": "stdout",
       "text": [
        " 58.0459174498 6 -0.128869069462 35 2.64281423511\n",
        "0.15364008791"
       ]
      },
      {
       "output_type": "stream",
       "stream": "stdout",
       "text": [
        " 55.0210599577 6 -0.131084918303 36 2.68042823205\n",
        "0.145633678649"
       ]
      },
      {
       "output_type": "stream",
       "stream": "stdout",
       "text": [
        " 52.1538322051 6 -0.133190058148 37 2.71814838688\n",
        "0.138044495063"
       ]
      },
      {
       "output_type": "stream",
       "stream": "stdout",
       "text": [
        " 49.4360198763 6 -0.135196276099 38 2.75599926241\n",
        "0.130850794912"
       ]
      },
      {
       "output_type": "stream",
       "stream": "stdout",
       "text": [
        " 46.8598367152 6 -0.137115253912 39 2.79405040959\n",
        "0.124031968977"
       ]
      },
      {
       "output_type": "stream",
       "stream": "stdout",
       "text": [
        " 44.4179022194 6 -0.138957407637 40 2.83235272248\n",
        "0.117568482015"
       ]
      },
      {
       "output_type": "stream",
       "stream": "stdout",
       "text": [
        " 42.1032204947 6 -0.140723227276 41 2.87078138356\n",
        "0.111441816794"
       ]
      },
      {
       "output_type": "stream",
       "stream": "stdout",
       "text": [
        " 39.9091602137 6 -0.142438772325 42 2.90973547378\n",
        "0.105634421041"
       ]
      },
      {
       "output_type": "stream",
       "stream": "stdout",
       "text": [
        " 37.8294356167 6 -0.144090768085 43 2.94884785965\n",
        "failing:"
       ]
      },
      {
       "output_type": "stream",
       "stream": "stdout",
       "text": [
        " [ 4  5 34 35]\n",
        "0.100129657159"
       ]
      },
      {
       "output_type": "stream",
       "stream": "stdout",
       "text": [
        " 35.8580885044 10 -0.146075021739 44 2.99792946755\n",
        "0.094911754558"
       ]
      },
      {
       "output_type": "stream",
       "stream": "stdout",
       "text": [
        " 33.9894711678 10 -0.148768159759 45 3.06761810611\n",
        "failing:"
       ]
      },
      {
       "output_type": "stream",
       "stream": "stdout",
       "text": [
        " [ 2  3 32 33]\n",
        "0.0899657644785"
       ]
      },
      {
       "output_type": "stream",
       "stream": "stdout",
       "text": [
        " 32.2182302084 14 -0.151858341754 46 3.1525160462\n",
        "0.0852775171621"
       ]
      },
      {
       "output_type": "stream",
       "stream": "stdout",
       "text": [
        " 30.539291201 14 -0.155017332539 47 3.2439780513\n",
        "0.0808335812571"
       ]
      },
      {
       "output_type": "stream",
       "stream": "stdout",
       "text": [
        " 28.9478441561 14 -0.158005448537 48 3.33485753584\n",
        "failing:"
       ]
      },
      {
       "output_type": "stream",
       "stream": "stdout",
       "text": [
        " [24 25 54 55]\n",
        "0.0766212253392"
       ]
      },
      {
       "output_type": "stream",
       "stream": "stdout",
       "text": [
        " 27.4393297399 18 -0.161318326609 49 3.44090278325\n",
        "0.0726283814373"
       ]
      },
      {
       "output_type": "stream",
       "stream": "stdout",
       "text": [
        " 26.009426212 18 -0.164693431407 50 3.55452818148\n",
        "0.0688436104598"
       ]
      },
      {
       "output_type": "stream",
       "stream": "stdout",
       "text": [
        " 24.6540370443 18 -0.167860496185 51 3.66681352954\n",
        "0.0652560694228"
       ]
      },
      {
       "output_type": "stream",
       "stream": "stdout",
       "text": [
        " 23.3692791847 18 -0.170823688758 52 3.77750021334\n",
        "0.0618554803863"
       ]
      },
      {
       "output_type": "stream",
       "stream": "stdout",
       "text": [
        " 22.1514719325 18 -0.173591671746 53 3.88646393404\n",
        "0.0586321010085"
       ]
      },
      {
       "output_type": "stream",
       "stream": "stdout",
       "text": [
        " 20.9971263941 18 -0.176171941006 54 3.99356324166\n",
        "failing:"
       ]
      },
      {
       "output_type": "stream",
       "stream": "stdout",
       "text": [
        " [28 29 58 59]\n",
        "0.0555766966355"
       ]
      },
      {
       "output_type": "stream",
       "stream": "stdout",
       "text": [
        " 19.9029354867 22 -0.179557421853 55 4.14283564504\n",
        "0.0526805138445"
       ]
      },
      {
       "output_type": "stream",
       "stream": "stdout",
       "text": [
        " 18.8657644647 22 -0.182680252862 56 4.28854691444\n",
        "failing:"
       ]
      },
      {
       "output_type": "stream",
       "stream": "stdout",
       "text": [
        " [ 8  9 38 39]\n",
        "0.0499352553666"
       ]
      },
      {
       "output_type": "stream",
       "stream": "stdout",
       "text": [
        " 17.8826419388 26 -0.186808155934 57 4.49354185371\n",
        "0.0473330563154"
       ]
      },
      {
       "output_type": "stream",
       "stream": "stdout",
       "text": [
        " 16.9507513628 26 -0.190498449236 58 4.68811681587\n",
        "failing:"
       ]
      },
      {
       "output_type": "stream",
       "stream": "stdout",
       "text": [
        " [22 23 52 53]\n",
        "failing:"
       ]
      },
      {
       "output_type": "stream",
       "stream": "stdout",
       "text": [
        " [26 27 56 57]\n",
        "0.0448664616554"
       ]
      },
      {
       "output_type": "stream",
       "stream": "stdout",
       "text": [
        " 16.067422965 34 -0.19539659718 59 4.96084357369\n",
        "0.0425284048437"
       ]
      },
      {
       "output_type": "stream",
       "stream": "stdout",
       "text": [
        " 15.2301260996 34 -0.20043141318 60 5.26158622192\n",
        "0.0403121875856"
       ]
      },
      {
       "output_type": "stream",
       "stream": "stdout",
       "text": [
        " 14.436461996 34 -0.205068354824 61 5.55598765072\n",
        "0.0382114606439"
       ]
      },
      {
       "output_type": "stream",
       "stream": "stdout",
       "text": [
        " 13.6841568875 34 -0.209338756865 62 5.8441466605\n",
        "0.0362202056498"
       ]
      },
      {
       "output_type": "stream",
       "stream": "stdout",
       "text": [
        " 12.9710554963 34 -0.213276033263 63 6.1265836538\n",
        "failing:"
       ]
      },
      {
       "output_type": "stream",
       "stream": "stdout",
       "text": [
        " [18 19 48 49]\n",
        "0.0343327178601"
       ]
      },
      {
       "output_type": "stream",
       "stream": "stdout",
       "text": [
        " 12.2951148596 38 -0.217260410692 64 6.42899543144\n",
        "0.0325435898145"
       ]
      },
      {
       "output_type": "stream",
       "stream": "stdout",
       "text": [
        " 11.6543984762 38 -0.221374503648 65 6.75808517748\n",
        "0.0308476958431"
       ]
      },
      {
       "output_type": "stream",
       "stream": "stdout",
       "text": [
        " 11.0470707589 38 -0.225166935888 66 7.08053946318\n",
        "failing:"
       ]
      },
      {
       "output_type": "stream",
       "stream": "stdout",
       "text": [
        " [14 15 44 45]\n",
        "0.0292401773821"
       ]
      },
      {
       "output_type": "stream",
       "stream": "stdout",
       "text": [
        " 10.4713917754 42 -0.229042439338 67 7.43209476696\n",
        "failing:"
       ]
      },
      {
       "output_type": "stream",
       "stream": "stdout",
       "text": [
        " [12 13 42 43]\n",
        "0.0277164290548"
       ]
      },
      {
       "output_type": "stream",
       "stream": "stdout",
       "text": [
        " 9.92571226419 46 -0.232715140855 68 7.78623383667\n",
        "0.0262720854771"
       ]
      },
      {
       "output_type": "stream",
       "stream": "stdout",
       "text": [
        " 9.40846890883 46 -0.236354381525 69 8.15889123752\n",
        "failing:"
       ]
      },
      {
       "output_type": "stream",
       "stream": "stdout",
       "text": [
        " [ 6  7 36 37]\n",
        "0.0249030087516"
       ]
      },
      {
       "output_type": "stream",
       "stream": "stdout",
       "text": [
        " 8.91817985978 50 -0.239962131912 70 8.55049169082\n",
        "0.0236052766129"
       ]
      },
      {
       "output_type": "stream",
       "stream": "stdout",
       "text": [
        " 8.45344048878 50 -0.243405929694 71 8.9462467934\n",
        "0.0223751711903"
       ]
      },
      {
       "output_type": "stream",
       "stream": "stdout",
       "text": [
        " 8.01291936482 50 -0.24660226477 72 9.33568078736\n",
        "0.0212091683569"
       ]
      },
      {
       "output_type": "stream",
       "stream": "stdout",
       "text": [
        " 7.59535443969 50 -0.249564323155 73 9.71793912852\n",
        "0.0201039276333"
       ]
      },
      {
       "output_type": "stream",
       "stream": "stdout",
       "text": [
        " 7.19954943236 50 -0.252307942289 74 10.0927947072\n",
        "0.0190562826172"
       ]
      },
      {
       "output_type": "stream",
       "stream": "stdout",
       "text": [
        " 6.82437040174 50 -0.254863557721 75 10.4623493513\n",
        "0.0180632319122"
       ]
      },
      {
       "output_type": "stream",
       "stream": "stdout",
       "text": [
        " 6.46874249809 50 -0.25723646939 76 10.8249423681\n",
        "0.0171219305291"
       ]
      },
      {
       "output_type": "stream",
       "stream": "stdout",
       "text": [
        " 6.13164688363 50 -0.259444303329 77 11.1814829306\n",
        "failing:"
       ]
      },
      {
       "output_type": "stream",
       "stream": "stdout",
       "text": [
        " [20 21 50 51]\n",
        "0.0162296817351"
       ]
      },
      {
       "output_type": "stream",
       "stream": "stdout",
       "text": [
        " 5.81211781372 54 -0.26158325268 78 11.5457245408\n",
        "0.0153839293283"
       ]
      },
      {
       "output_type": "stream",
       "stream": "stdout",
       "text": [
        " 5.50923987008 54 -0.263788122238 79 11.9402286805\n",
        "0.0145822503139"
       ]
      },
      {
       "output_type": "stream",
       "stream": "stdout",
       "text": [
        " 5.22214533822 54 -0.265846986807 80 12.3291624559\n",
        "0.0138223479633"
       ]
      },
      {
       "output_type": "stream",
       "stream": "stdout",
       "text": [
        " 4.95001172151 54 -0.267763672152 81 12.7117749678\n",
        "0.0131020452335"
       ]
      },
      {
       "output_type": "stream",
       "stream": "stdout",
       "text": [
        " 4.69205938482 54 -0.269551001278 82 13.0886065139\n",
        "0.0124192785304"
       ]
      },
      {
       "output_type": "stream",
       "stream": "stdout",
       "text": [
        " 4.44754932094 54 -0.271220045381 83 13.4603645349\n",
        "0.0117720917969"
       ]
      },
      {
       "output_type": "stream",
       "stream": "stdout",
       "text": [
        " 4.21578103342 54 -0.272775230017 84 13.8261621822\n",
        "0.0111586309088"
       ]
      },
      {
       "output_type": "stream",
       "stream": "stdout",
       "text": [
        " 3.9960905297 54 -0.274224485546 85 14.1861236167\n",
        "0.0105771383631"
       ]
      },
      {
       "output_type": "stream",
       "stream": "stdout",
       "text": [
        " 3.78784841881 54 -0.275581636318 86 14.5419387709\n",
        "failing:"
       ]
      },
      {
       "output_type": "stream",
       "stream": "stdout",
       "text": [
        " [10 11 40 41]\n",
        "0.0100259482428"
       ]
      },
      {
       "output_type": "stream",
       "stream": "stdout",
       "text": [
        " 3.59045810832 58 -0.276955318934 87 14.9221915092\n",
        "0.00950348144424"
       ]
      },
      {
       "output_type": "stream",
       "stream": "stdout",
       "text": [
        " 3.40335409505 58 -0.278252429053 88 15.3014341895\n",
        "0.00900824115327"
       ]
      },
      {
       "output_type": "stream",
       "stream": "stdout",
       "text": [
        " 3.22600034503 58 -0.279467451281 89 15.6760847232\n",
        "0.0085388085568"
       ]
      },
      {
       "output_type": "stream",
       "stream": "stdout",
       "text": [
        " 3.05788875783 58 -0.280606020674 90 16.0466108629\n",
        "0.0080938387782"
       ]
      },
      {
       "output_type": "stream",
       "stream": "stdout",
       "text": [
        " 2.89853771084 58 -0.281668098229 91 16.4111790524\n",
        "0.00767205702431"
       ]
      },
      {
       "output_type": "stream",
       "stream": "stdout",
       "text": [
        " 2.74749067953 58 -0.282658174769 92 16.7695344367\n",
        "0.00727225493333"
       ]
      },
      {
       "output_type": "stream",
       "stream": "stdout",
       "text": [
        " 2.60431492951 58 -0.283589259699 93 17.1245802545\n",
        "0.00689328711292"
       ]
      },
      {
       "output_type": "stream",
       "stream": "stdout",
       "text": [
        " 2.46860027683 58 -0.284463215672 94 17.4759570737\n",
        "0.00653406785885"
       ]
      },
      {
       "output_type": "stream",
       "stream": "stdout",
       "text": [
        " 2.33995791281 58 -0.28528729326 95 17.8244761037\n",
        "0.00619356804448"
       ]
      },
      {
       "output_type": "stream",
       "stream": "stdout",
       "text": [
        " 2.21801929017 58 -0.286065185023 96 18.1707378537\n",
        "0.00587081217249"
       ]
      },
      {
       "output_type": "stream",
       "stream": "stdout",
       "text": [
        " 2.10243506716 58 -0.286823682017 97 18.5272613498\n",
        "0.00556487558014"
       ]
      },
      {
       "output_type": "stream",
       "stream": "stdout",
       "text": [
        " 1.99287410674 58 -0.287518694589 98 18.8690931323\n",
        "0.00527488179021"
       ]
      },
      {
       "output_type": "stream",
       "stream": "stdout",
       "text": [
        " 1.88902252789 58 -0.288183783722 99 19.2125863767\n"
       ]
      }
     ],
     "prompt_number": 48
    },
    {
     "cell_type": "code",
     "collapsed": false,
     "input": [
      "beta=np.array(results['beta'].todense()).reshape((30,2,-1))"
     ],
     "language": "python",
     "metadata": {},
     "outputs": [],
     "prompt_number": 49
    },
    {
     "cell_type": "code",
     "collapsed": false,
     "input": [
      "beta.shape\n",
      "sqbeta = np.sqrt((beta**2).sum(1))"
     ],
     "language": "python",
     "metadata": {},
     "outputs": [],
     "prompt_number": 50
    },
    {
     "cell_type": "code",
     "collapsed": false,
     "input": [
      "f = [plt.plot(np.log(results['lagrange']), sqbeta[i]) for i in range(beta.shape[0])]\n",
      "a = plt.gcf().gca()\n",
      "a.set_ylim([0,2])"
     ],
     "language": "python",
     "metadata": {},
     "outputs": [
      {
       "output_type": "pyout",
       "prompt_number": 52,
       "text": [
        "(0, 2)"
       ]
      },
      {
       "output_type": "display_data",
       "png": "[encoded data removed]"
      }
     ],
     "prompt_number": 52
    },
    {
     "cell_type": "code",
     "collapsed": false,
     "input": [],
     "language": "python",
     "metadata": {},
     "outputs": [],
     "prompt_number": 51
    }
   ],
   "metadata": {}
  }
 ]
}