{
 "metadata": {
  "name": "Beta regression"
 },
 "nbformat": 3,
 "nbformat_minor": 0,
 "worksheets": [
  {
   "cells": [
    {
     "cell_type": "code",
     "collapsed": false,
     "input": [
      "import numpy as np, regreg.api as rr, regreg.affine as ra\n",
      "import scipy.special\n"
     ],
     "language": "python",
     "metadata": {},
     "outputs": [],
     "prompt_number": 1
    },
    {
     "cell_type": "code",
     "collapsed": false,
     "input": [
      "class beta_loglikelihood(rr.smooth_atom):\n",
      "    \n",
      "    def __init__(self, proportions,\n",
      "                 coef=1.,\n",
      "                 offset=None,\n",
      "                 quadratic=None,\n",
      "                 initial=None):\n",
      "    \n",
      "        self.proportions = proportions.reshape(-1)\n",
      "        self.primal_shape = proportions.shape + (2,)\n",
      "        rr.smooth_atom.__init__(self, self.primal_shape,\n",
      "                                offset=offset,\n",
      "                                coef=coef,\n",
      "                                quadratic=quadratic,\n",
      "                                initial=initial)\n",
      "    def smooth_objective(self, x, mode='both', check_feasibility=False):\n",
      "        \"\"\"\n",
      "        Evaluate a smooth function and/or its gradient\n",
      "\n",
      "        if mode == 'both', return both function value and gradient\n",
      "        if mode == 'grad', return only the gradient\n",
      "        if mode == 'func', return only the function value\n",
      "        \"\"\"\n",
      "        x = x.reshape(self.primal_shape)\n",
      "        omega = np.exp(x[:,0])\n",
      "        tau = np.exp(x[:,1])\n",
      "        \n",
      "        if mode == 'func':\n",
      "            v = scipy.special.betaln(omega, tau).sum()\n",
      "            v -= ((omega - 1.) * np.log(self.proportions)).sum()\n",
      "            v -= ((tau - 1.) * np.log(1.-self.proportions)).sum()\n",
      "            \n",
      "            return v\n",
      "        elif mode == 'both':\n",
      "            v = scipy.special.betaln(omega, tau).sum()\n",
      "            v -= ((omega - 1.) * np.log(self.proportions)).sum()\n",
      "            v -= ((tau - 1.) * np.log(1.-self.proportions)).sum()\n",
      "            g_omega = (-np.log(self.proportions) + (scipy.special.digamma(omega) - scipy.special.digamma(omega+tau))) * omega\n",
      "            g_tau = (-np.log(1-self.proportions) + (scipy.special.digamma(tau) - scipy.special.digamma(omega+tau))) * tau\n",
      "            g = np.array([g_omega, g_tau]).T\n",
      "            return v, g\n",
      "        elif mode == 'grad':\n",
      "            g_omega = (-np.log(self.proportions) + (scipy.special.digamma(omega) - scipy.special.digamma(omega+tau))) * omega\n",
      "            g_tau = (-np.log(1-self.proportions) + (scipy.special.digamma(tau) - scipy.special.digamma(omega+tau))) * tau\n",
      "            g = np.array([g_omega, g_tau]).T\n",
      "            return g\n",
      "        else:\n",
      "            raise ValueError(\"mode incorrectly specified\")\n",
      "            \n"
     ],
     "language": "python",
     "metadata": {},
     "outputs": [],
     "prompt_number": 2
    },
    {
     "cell_type": "code",
     "collapsed": false,
     "input": [
      "proportions = np.random.binomial(10, 0.5, size=(100,)) / 12. + 0.01\n",
      "logl = beta_loglikelihood(proportions)"
     ],
     "language": "python",
     "metadata": {},
     "outputs": [],
     "prompt_number": 3
    },
    {
     "cell_type": "code",
     "collapsed": false,
     "input": [
      "logl.smooth_objective(np.ones((100,2))*2., mode='both')\n",
      "penalty = rr.l1_l2((100,2), lagrange=3.)\n",
      "\n",
      "problem = rr.simple_problem(logl, penalty)\n",
      "problem.coefs[:] = np.ones((100,2))*2.\n",
      "soln = problem.solve()"
     ],
     "language": "python",
     "metadata": {},
     "outputs": [],
     "prompt_number": 4
    },
    {
     "cell_type": "code",
     "collapsed": false,
     "input": [
      "%load_ext rmagic\n"
     ],
     "language": "python",
     "metadata": {},
     "outputs": [],
     "prompt_number": 5
    },
    {
     "cell_type": "code",
     "collapsed": false,
     "input": [
      "%%R -o X,Y\n",
      "d = read.table('data812.txt')\n",
      "X = as.matrix(d[,2:ncol(d)])\n",
      "Y = d[,1]\n",
      "print(dim(X))"
     ],
     "language": "python",
     "metadata": {},
     "outputs": [
      {
       "output_type": "display_data",
       "text": [
        "[1] 1471   29\n"
       ]
      }
     ],
     "prompt_number": 6
    },
    {
     "cell_type": "code",
     "collapsed": false,
     "input": [
      "Y.shape, X.shape\n"
     ],
     "language": "python",
     "metadata": {},
     "outputs": [
      {
       "output_type": "pyout",
       "prompt_number": 7,
       "text": [
        "((1471,), (1471, 29))"
       ]
      }
     ],
     "prompt_number": 7
    },
    {
     "cell_type": "code",
     "collapsed": false,
     "input": [
      "n, p = X.shape\n",
      "lagrange = 1.\n",
      "X = np.hstack([np.ones((n,1)),X])\n",
      "n, p = X.shape"
     ],
     "language": "python",
     "metadata": {},
     "outputs": [],
     "prompt_number": 8
    },
    {
     "cell_type": "code",
     "collapsed": false,
     "input": [
      "loss = rr.affine_smooth(beta_loglikelihood(Y), X)\n",
      "loss.primal_shape = (30,2)\n",
      "penalty = rr.l1_l2((30,2), lagrange=lagrange)\n",
      "problem = rr.simple_problem(loss, penalty)\n",
      "soln = problem.solve(tol=1.e-12)"
     ],
     "language": "python",
     "metadata": {},
     "outputs": [
      {
       "output_type": "stream",
       "stream": "stderr",
       "text": [
        "-c:25: RuntimeWarning: overflow encountered in exp\n",
        "-c:29: RuntimeWarning: overflow encountered in betaln\n"
       ]
      }
     ],
     "prompt_number": 9
    },
    {
     "cell_type": "code",
     "collapsed": false,
     "input": [
      "soln"
     ],
     "language": "python",
     "metadata": {},
     "outputs": [
      {
       "output_type": "pyout",
       "prompt_number": 10,
       "text": [
        "array([[  1.77870890e-01,   1.03044757e+00],\n",
        "       [ -3.25886533e-01,  -3.24856220e-01],\n",
        "       [  1.06764026e-03,  -7.66422758e-01],\n",
        "       [  1.03090201e-01,  -1.72456527e-01],\n",
        "       [  1.31301519e+00,  -1.23588185e-02],\n",
        "       [  2.12422393e+00,  -1.27098927e+00],\n",
        "       [  1.94809814e-01,  -5.59225197e-01],\n",
        "       [  1.21936993e+00,  -1.06200602e+00],\n",
        "       [  1.22357597e+00,  -7.62458134e-01],\n",
        "       [  2.92256106e+00,  -1.66042021e+00],\n",
        "       [  2.09814857e-01,  -1.49653715e+00],\n",
        "       [ -4.87860266e-01,  -4.87377212e-01],\n",
        "       [  2.94784337e-01,   1.78532345e-02],\n",
        "       [ -2.21772862e-01,   2.33784122e-01],\n",
        "       [  8.82914305e-01,  -5.11152355e-02],\n",
        "       [  7.57204354e-02,   8.75827622e-01],\n",
        "       [  1.28250385e+00,  -1.58897206e+00],\n",
        "       [  4.91116960e+00,  -1.70867847e+00],\n",
        "       [  5.33223685e+00,  -1.72475508e+00],\n",
        "       [  5.67599039e+00,  -1.33966167e+00],\n",
        "       [  7.21815281e-01,  -2.21301825e+00],\n",
        "       [  5.44924460e-01,  -1.07749436e+00],\n",
        "       [  2.30037383e+01,   1.41644809e+01],\n",
        "       [  1.72001264e+00,  -1.12566023e+00],\n",
        "       [  9.30366338e-01,  -2.05865815e+00],\n",
        "       [  1.01464159e-01,  -3.20296105e-01],\n",
        "       [ -2.28708951e-01,  -7.41347369e-01],\n",
        "       [  5.13196020e-01,  -3.10935825e-01],\n",
        "       [  1.31535534e+00,  -1.18878260e+00],\n",
        "       [  6.38350842e-01,  -7.32367880e-01]])"
       ]
      }
     ],
     "prompt_number": 10
    },
    {
     "cell_type": "code",
     "collapsed": false,
     "input": [
      "print X.shape\n",
      "Xbeta1 = np.dot(X, problem.coefs)"
     ],
     "language": "python",
     "metadata": {},
     "outputs": [
      {
       "output_type": "stream",
       "stream": "stdout",
       "text": [
        "(1471, 30)\n"
       ]
      }
     ],
     "prompt_number": 11
    },
    {
     "cell_type": "heading",
     "level": 2,
     "metadata": {},
     "source": [
      "Using group LASSO notation (OK -- my group LASSO notation)"
     ]
    },
    {
     "cell_type": "code",
     "collapsed": false,
     "input": [
      "\n",
      "penalty_structure = np.array([[rr.UNPENALIZED]*2] + [[i]*2 for i in range(p-1)]).reshape(-1)\n",
      "penalty = rr.group_lasso(penalty_structure, lagrange / np.sqrt(2))\n",
      "T = ra.composition(ra.tensorize(X, 2), ra.reshape((2*p,), (p,2)))\n",
      "loss = rr.affine_smooth(beta_loglikelihood(Y), T)\n",
      "\n",
      "problem_gl = rr.simple_problem(loss, penalty)\n",
      "b = problem_gl.solve(tol=1.e-12)\n"
     ],
     "language": "python",
     "metadata": {},
     "outputs": [],
     "prompt_number": 12
    },
    {
     "cell_type": "code",
     "collapsed": false,
     "input": [
      "print penalty_structure"
     ],
     "language": "python",
     "metadata": {},
     "outputs": [
      {
       "output_type": "stream",
       "stream": "stdout",
       "text": [
        "[-1 -1  0  0  1  1  2  2  3  3  4  4  5  5  6  6  7  7  8  8  9  9 10 10 11\n",
        " 11 12 12 13 13 14 14 15 15 16 16 17 17 18 18 19 19 20 20 21 21 22 22 23 23\n",
        " 24 24 25 25 26 26 27 27 28 28]\n"
       ]
      }
     ],
     "prompt_number": 13
    },
    {
     "cell_type": "code",
     "collapsed": false,
     "input": [
      "b = b.reshape((p,2))\n",
      "Xbeta2 = np.dot(X, b)\n"
     ],
     "language": "python",
     "metadata": {},
     "outputs": [],
     "prompt_number": 14
    },
    {
     "cell_type": "code",
     "collapsed": false,
     "input": [
      "import pylab\n",
      "pylab.figure(num=1); pylab.clf(); pylab.scatter(Xbeta1[:,0], Xbeta2[:,0])\n",
      "pylab.figure(num=2); pylab.clf(); pylab.scatter(Xbeta1[:,1], Xbeta2[:,1])\n"
     ],
     "language": "python",
     "metadata": {},
     "outputs": [
      {
       "output_type": "pyout",
       "prompt_number": 15,
       "text": [
        "<matplotlib.collections.PathCollection at 0x9d0e730>"
       ]
      },
      {
       "output_type": "display_data",
       "png": "[encoded data removed]"
      },
      {
       "output_type": "display_data",
       "png": "[encoded data removed]"
      }
     ],
     "prompt_number": 15
    },
    {
     "cell_type": "code",
     "collapsed": false,
     "input": [
      "b"
     ],
     "language": "python",
     "metadata": {},
     "outputs": [
      {
       "output_type": "pyout",
       "prompt_number": 16,
       "text": [
        "array([[  1.79591458e-01,   1.03267721e+00],\n",
        "       [ -3.28101652e-01,  -3.27111525e-01],\n",
        "       [ -3.50639806e-03,  -7.69144236e-01],\n",
        "       [  1.04178951e-01,  -1.72568744e-01],\n",
        "       [  1.32628266e+00,  -5.88788512e-03],\n",
        "       [  2.12308139e+00,  -1.27106121e+00],\n",
        "       [  1.94459594e-01,  -5.60978615e-01],\n",
        "       [  1.21846409e+00,  -1.06332718e+00],\n",
        "       [  1.22215397e+00,  -7.63870721e-01],\n",
        "       [  2.93589669e+00,  -1.65318663e+00],\n",
        "       [  2.05676953e-01,  -1.49988045e+00],\n",
        "       [ -4.90171648e-01,  -4.89700932e-01],\n",
        "       [  2.93605173e-01,   1.73064566e-02],\n",
        "       [ -2.23178485e-01,   2.32064175e-01],\n",
        "       [  8.82275737e-01,  -5.11375139e-02],\n",
        "       [  7.74779058e-02,   8.77406201e-01],\n",
        "       [  1.27905527e+00,  -1.59070612e+00],\n",
        "       [  4.85923682e+00,  -1.73564347e+00],\n",
        "       [  5.24078726e+00,  -1.77008377e+00],\n",
        "       [  5.67148638e+00,  -1.34139564e+00],\n",
        "       [  7.20807019e-01,  -2.21610172e+00],\n",
        "       [  5.45760429e-01,  -1.07754106e+00],\n",
        "       [  2.30413460e+01,   1.42015883e+01],\n",
        "       [  1.72520087e+00,  -1.12475994e+00],\n",
        "       [  9.31063853e-01,  -2.05960534e+00],\n",
        "       [  1.00043467e-01,  -3.20044600e-01],\n",
        "       [ -2.28870745e-01,  -7.41823513e-01],\n",
        "       [  5.08288846e-01,  -3.18292650e-01],\n",
        "       [  1.31614193e+00,  -1.18844646e+00],\n",
        "       [  6.38490023e-01,  -7.33172794e-01]])"
       ]
      }
     ],
     "prompt_number": 16
    },
    {
     "cell_type": "code",
     "collapsed": false,
     "input": [
      "soln"
     ],
     "language": "python",
     "metadata": {},
     "outputs": [
      {
       "output_type": "pyout",
       "prompt_number": 17,
       "text": [
        "array([[  1.77870890e-01,   1.03044757e+00],\n",
        "       [ -3.25886533e-01,  -3.24856220e-01],\n",
        "       [  1.06764026e-03,  -7.66422758e-01],\n",
        "       [  1.03090201e-01,  -1.72456527e-01],\n",
        "       [  1.31301519e+00,  -1.23588185e-02],\n",
        "       [  2.12422393e+00,  -1.27098927e+00],\n",
        "       [  1.94809814e-01,  -5.59225197e-01],\n",
        "       [  1.21936993e+00,  -1.06200602e+00],\n",
        "       [  1.22357597e+00,  -7.62458134e-01],\n",
        "       [  2.92256106e+00,  -1.66042021e+00],\n",
        "       [  2.09814857e-01,  -1.49653715e+00],\n",
        "       [ -4.87860266e-01,  -4.87377212e-01],\n",
        "       [  2.94784337e-01,   1.78532345e-02],\n",
        "       [ -2.21772862e-01,   2.33784122e-01],\n",
        "       [  8.82914305e-01,  -5.11152355e-02],\n",
        "       [  7.57204354e-02,   8.75827622e-01],\n",
        "       [  1.28250385e+00,  -1.58897206e+00],\n",
        "       [  4.91116960e+00,  -1.70867847e+00],\n",
        "       [  5.33223685e+00,  -1.72475508e+00],\n",
        "       [  5.67599039e+00,  -1.33966167e+00],\n",
        "       [  7.21815281e-01,  -2.21301825e+00],\n",
        "       [  5.44924460e-01,  -1.07749436e+00],\n",
        "       [  2.30037383e+01,   1.41644809e+01],\n",
        "       [  1.72001264e+00,  -1.12566023e+00],\n",
        "       [  9.30366338e-01,  -2.05865815e+00],\n",
        "       [  1.01464159e-01,  -3.20296105e-01],\n",
        "       [ -2.28708951e-01,  -7.41347369e-01],\n",
        "       [  5.13196020e-01,  -3.10935825e-01],\n",
        "       [  1.31535534e+00,  -1.18878260e+00],\n",
        "       [  6.38350842e-01,  -7.32367880e-01]])"
       ]
      }
     ],
     "prompt_number": 17
    },
    {
     "cell_type": "heading",
     "level": 2,
     "metadata": {},
     "source": [
      "Path of solutions"
     ]
    },
    {
     "cell_type": "code",
     "collapsed": false,
     "input": [
      "#X[:,1:] -= X[:,1:].mean(0)[np.newaxis,:]\n",
      "from regreg.paths import loss_factory\n",
      "class betareg_factory(loss_factory):\n",
      "\n",
      "    def __call__(self, X):\n",
      "        p = X.shape[1] / 2\n",
      "        X = X[:,::2]\n",
      "        T = ra.composition(ra.tensorize(X, 2), ra.reshape((2*p,), (p,2)))\n",
      "        return rr.affine_smooth(beta_loglikelihood(self.response), T)\n",
      "\n",
      "#lasso = rr.lasso(betareg_factory(Y), np.hstack([X,X]), penalty_structure=penalty_structure, intercept=False, scale=False, center=False, lagrange_proportion=.005)\n",
      "#lasso = rr.lasso(betareg_factory(Y), np.hstack([X,X]), penalty_structure=penalty_structure, intercept=False, lagrange_proportion=.0001)\n",
      "#results = lasso.main(verbose=True)"
     ],
     "language": "python",
     "metadata": {},
     "outputs": [],
     "prompt_number": 18
    },
    {
     "cell_type": "code",
     "collapsed": false,
     "input": [
      "# beta=np.array(results['beta'].todense()).reshape((30,2,-1))"
     ],
     "language": "python",
     "metadata": {},
     "outputs": [
      {
       "ename": "NameError",
       "evalue": "name 'results' is not defined",
       "output_type": "pyerr",
       "traceback": [
        "\u001b[0;31m---------------------------------------------------------------------------\u001b[0m\n\u001b[0;31mNameError\u001b[0m                                 Traceback (most recent call last)",
        "\u001b[0;32m<ipython-input-19-22836c50421d>\u001b[0m in \u001b[0;36m<module>\u001b[0;34m()\u001b[0m\n\u001b[0;32m----> 1\u001b[0;31m \u001b[0mbeta\u001b[0m\u001b[0;34m=\u001b[0m\u001b[0mnp\u001b[0m\u001b[0;34m.\u001b[0m\u001b[0marray\u001b[0m\u001b[0;34m(\u001b[0m\u001b[0mresults\u001b[0m\u001b[0;34m[\u001b[0m\u001b[0;34m'beta'\u001b[0m\u001b[0;34m]\u001b[0m\u001b[0;34m.\u001b[0m\u001b[0mtodense\u001b[0m\u001b[0;34m(\u001b[0m\u001b[0;34m)\u001b[0m\u001b[0;34m)\u001b[0m\u001b[0;34m.\u001b[0m\u001b[0mreshape\u001b[0m\u001b[0;34m(\u001b[0m\u001b[0;34m(\u001b[0m\u001b[0;36m30\u001b[0m\u001b[0;34m,\u001b[0m\u001b[0;36m2\u001b[0m\u001b[0;34m,\u001b[0m\u001b[0;34m-\u001b[0m\u001b[0;36m1\u001b[0m\u001b[0;34m)\u001b[0m\u001b[0;34m)\u001b[0m\u001b[0;34m\u001b[0m\u001b[0m\n\u001b[0m",
        "\u001b[0;31mNameError\u001b[0m: name 'results' is not defined"
       ]
      }
     ],
     "prompt_number": 19
    },
    {
     "cell_type": "code",
     "collapsed": false,
     "input": [
      "# beta.shape\n",
      "# sqbeta = np.sqrt((beta**2).sum(1))"
     ],
     "language": "python",
     "metadata": {},
     "outputs": []
    },
    {
     "cell_type": "code",
     "collapsed": false,
     "input": [
      "# f = [plt.plot(np.log(results['lagrange']), sqbeta[i]) for i in range(beta.shape[0])]\n",
      "# a = plt.gcf().gca()\n",
      "# a.set_ylim([0,2])"
     ],
     "language": "python",
     "metadata": {},
     "outputs": [],
     "prompt_number": 20
    },
    {
     "cell_type": "heading",
     "level": 2,
     "metadata": {},
     "source": [
      "Different parameterization\n"
     ]
    },
    {
     "cell_type": "code",
     "collapsed": false,
     "input": [
      "class beta_loglikelihood_mu(rr.smooth_atom):\n",
      "    \n",
      "    def __init__(self, proportions, X,\n",
      "                 coef=1.,\n",
      "                 offset=None,\n",
      "                 quadratic=None,\n",
      "                 initial=None):\n",
      "        X = ra.astransform(X)\n",
      "        self.proportions = proportions.reshape(-1)\n",
      "        self.primal_shape = (X.primal_shape[0]+1,)\n",
      "\n",
      "        self.X = X\n",
      "        rr.smooth_atom.__init__(self, self.primal_shape,\n",
      "                                offset=offset,\n",
      "                                coef=coef,\n",
      "                                quadratic=quadratic,\n",
      "                                initial=initial)\n",
      "        self.ystar = np.log(proportions / (1. - proportions))\n",
      "                             \n",
      "    def smooth_objective(self, params, mode='both', check_feasibility=False):\n",
      "        \"\"\"\n",
      "        Evaluate a smooth function and/or its gradient\n",
      "\n",
      "        if mode == 'both', return both function value and gradient\n",
      "        if mode == 'grad', return only the gradient\n",
      "        if mode == 'func', return only the function value\n",
      "        \"\"\"\n",
      "        phi = params[0]\n",
      "        beta = params[1:]\n",
      "        eta = self.X.linear_map(beta)\n",
      "        exp_eta = np.exp(eta)\n",
      "        mu = exp_eta / (1. + exp_eta)\n",
      "        omega = mu * phi\n",
      "        tau = (1 - mu) * phi\n",
      "        dg_tau = scipy.special.digamma(tau)\n",
      "        dg_omega = scipy.special.digamma(omega)\n",
      "        mu_star = dg_omega - dg_tau\n",
      "        \n",
      "        W = mu * (1 - mu)\n",
      "        if mode == 'func':\n",
      "            v = scipy.special.betaln(omega, tau).sum()\n",
      "            v -= ((omega - 1.) * np.log(self.proportions)).sum()\n",
      "            v -= ((tau - 1.) * np.log(1.-self.proportions)).sum()\n",
      "            return v\n",
      "        elif mode == 'both':\n",
      "            v = scipy.special.betaln(omega, tau).sum()\n",
      "            v -= ((omega - 1.) * np.log(self.proportions)).sum()\n",
      "            v -= ((tau - 1.) * np.log(1.-self.proportions)).sum()\n",
      "            g = np.zeros(self.primal_shape)\n",
      "            g[0]= -(mu * (self.ystar - mu_star) + np.log(1 - self.proportions) - dg_tau + scipy.special.digamma(phi)).sum()\n",
      "            g[1:] = -phi * self.X.adjoint_map(W * (self.ystar - mu_star))\n",
      "            return v, g\n",
      "        elif mode == 'grad':\n",
      "            g = np.zeros(self.primal_shape)\n",
      "            g[0]= -(mu * (self.ystar - mu_star) + np.log(1 - self.proportions) - dg_tau + scipy.special.digamma(phi)).sum()\n",
      "            g[1:] = -phi * self.X.adjoint_map(W * (self.ystar - mu_star))\n",
      "            return g\n",
      "        else:\n",
      "            raise ValueError(\"mode incorrectly specified\")\n",
      "            \n",
      "class betareg_factory(loss_factory):\n",
      "\n",
      "    def __call__(self, X):\n",
      "        return beta_loglikelihood_mu(self.response, X)\n",
      "\n"
     ],
     "language": "python",
     "metadata": {},
     "outputs": [],
     "prompt_number": 21
    },
    {
     "cell_type": "code",
     "collapsed": false,
     "input": [
      "loss = beta_loglikelihood_mu(Y, X)\n",
      "loss.smooth_objective(np.ones(loss.primal_shape), mode='both')\n",
      "penalty = rr.group_lasso([rr.L1_PENALTY]*29, 0.5)\n",
      "problem = rr.simple_problem(loss, penalty)\n",
      "\n",
      "loss.coefs = np.ones(loss.primal_shape)\n",
      "soln = loss.solve(tol=1.e-10, start_inv_step=2000)"
     ],
     "language": "python",
     "metadata": {},
     "outputs": [],
     "prompt_number": 22
    },
    {
     "cell_type": "code",
     "collapsed": false,
     "input": [
      "null_design = X[:,0:1]\n",
      "null_problem = beta_loglikelihood_mu(Y,null_design)\n",
      "null_problem.coefs = np.ones(2)\n",
      "null_soln = null_problem.solve(tol=1.e-10, start_inv_step=2000)\n",
      "full_null_soln = np.zeros(X.shape[1]+1)\n",
      "full_null_soln[:2] = null_soln\n",
      "grad_null = loss.smooth_objective(full_null_soln, mode='grad')\n",
      "lagrange_max = np.fabs(grad_null).max()\n",
      "lagrange_max"
     ],
     "language": "python",
     "metadata": {},
     "outputs": [
      {
       "output_type": "pyout",
       "prompt_number": 23,
       "text": [
        "196.33024220818453"
       ]
      }
     ],
     "prompt_number": 23
    },
    {
     "cell_type": "code",
     "collapsed": false,
     "input": [
      "penalty = rr.group_lasso([rr.UNPENALIZED]*2+[rr.L1_PENALTY]*29, lagrange_max)\n",
      "problem = rr.simple_problem(loss, penalty)\n",
      "problem.coefs = np.ones(loss.primal_shape)\n",
      "\n",
      "solutions = []\n",
      "nstep = 100\n",
      "lagrange_proportion = 1.e-4\n",
      "lagrange_sequence = lagrange_max * np.exp(np.linspace(np.log(lagrange_proportion), 0,\n",
      "                                    nstep))[::-1]\n",
      "for lagrange in lagrange_sequence:\n",
      "    penalty.lagrange = lagrange\n",
      "    soln = problem.solve(tol=1.e-6, start_inv_step=2000)\n",
      "    solutions.append(soln.copy())\n",
      "    \n"
     ],
     "language": "python",
     "metadata": {},
     "outputs": [
      {
       "output_type": "stream",
       "stream": "stdout",
       "text": [
        "196.330242208\n",
        "178.888804599"
       ]
      },
      {
       "output_type": "stream",
       "stream": "stdout",
       "text": [
        "\n",
        "162.996816237"
       ]
      },
      {
       "output_type": "stream",
       "stream": "stdout",
       "text": [
        "\n",
        "148.51662832"
       ]
      },
      {
       "output_type": "stream",
       "stream": "stdout",
       "text": [
        "\n",
        "135.322820389"
       ]
      },
      {
       "output_type": "stream",
       "stream": "stdout",
       "text": [
        "\n",
        "123.301113991"
       ]
      },
      {
       "output_type": "stream",
       "stream": "stdout",
       "text": [
        "\n",
        "112.347382856"
       ]
      },
      {
       "output_type": "stream",
       "stream": "stdout",
       "text": [
        "\n",
        "102.366751006"
       ]
      },
      {
       "output_type": "stream",
       "stream": "stdout",
       "text": [
        "\n",
        "93.2727709811"
       ]
      },
      {
       "output_type": "stream",
       "stream": "stdout",
       "text": [
        "\n",
        "84.9866750776"
       ]
      },
      {
       "output_type": "stream",
       "stream": "stdout",
       "text": [
        "\n",
        "77.4366930968"
       ]
      },
      {
       "output_type": "stream",
       "stream": "stdout",
       "text": [
        "\n",
        "70.5574307066"
       ]
      },
      {
       "output_type": "stream",
       "stream": "stdout",
       "text": [
        "\n",
        "64.289303027"
       ]
      },
      {
       "output_type": "stream",
       "stream": "stdout",
       "text": [
        "\n",
        "58.5780185349"
       ]
      },
      {
       "output_type": "stream",
       "stream": "stdout",
       "text": [
        "\n",
        "53.374108816"
       ]
      },
      {
       "output_type": "stream",
       "stream": "stdout",
       "text": [
        "\n",
        "48.632500094"
       ]
      },
      {
       "output_type": "stream",
       "stream": "stdout",
       "text": [
        "\n",
        "44.3121228224"
       ]
      },
      {
       "output_type": "stream",
       "stream": "stdout",
       "text": [
        "\n",
        "40.3755559602"
       ]
      },
      {
       "output_type": "stream",
       "stream": "stdout",
       "text": [
        "\n",
        "36.7887028484"
       ]
      },
      {
       "output_type": "stream",
       "stream": "stdout",
       "text": [
        "\n",
        "33.5204958813"
       ]
      },
      {
       "output_type": "stream",
       "stream": "stdout",
       "text": [
        "\n",
        "30.5426274135"
       ]
      },
      {
       "output_type": "stream",
       "stream": "stdout",
       "text": [
        "\n",
        "27.8293045731"
       ]
      },
      {
       "output_type": "stream",
       "stream": "stdout",
       "text": [
        "\n",
        "25.3570258556"
       ]
      },
      {
       "output_type": "stream",
       "stream": "stdout",
       "text": [
        "\n",
        "23.1043775655"
       ]
      },
      {
       "output_type": "stream",
       "stream": "stdout",
       "text": [
        "\n",
        "21.0518483409"
       ]
      },
      {
       "output_type": "stream",
       "stream": "stdout",
       "text": [
        "\n",
        "19.1816601556"
       ]
      },
      {
       "output_type": "stream",
       "stream": "stdout",
       "text": [
        "\n",
        "17.4776143343"
       ]
      },
      {
       "output_type": "stream",
       "stream": "stdout",
       "text": [
        "\n",
        "15.9249512471"
       ]
      },
      {
       "output_type": "stream",
       "stream": "stdout",
       "text": [
        "\n",
        "14.5102224694"
       ]
      },
      {
       "output_type": "stream",
       "stream": "stdout",
       "text": [
        "\n",
        "13.221174297"
       ]
      },
      {
       "output_type": "stream",
       "stream": "stdout",
       "text": [
        "\n",
        "12.0466416116"
       ]
      },
      {
       "output_type": "stream",
       "stream": "stdout",
       "text": [
        "\n",
        "10.9764511727"
       ]
      },
      {
       "output_type": "stream",
       "stream": "stdout",
       "text": [
        "\n",
        "10.0013335029"
       ]
      },
      {
       "output_type": "stream",
       "stream": "stdout",
       "text": [
        "\n",
        "9.11284259934"
       ]
      },
      {
       "output_type": "stream",
       "stream": "stdout",
       "text": [
        "\n",
        "8.30328277886"
       ]
      },
      {
       "output_type": "stream",
       "stream": "stdout",
       "text": [
        "\n",
        "7.56564202159"
       ]
      },
      {
       "output_type": "stream",
       "stream": "stdout",
       "text": [
        "\n",
        "6.89353123618"
       ]
      },
      {
       "output_type": "stream",
       "stream": "stdout",
       "text": [
        "\n",
        "6.28112892052"
       ]
      },
      {
       "output_type": "stream",
       "stream": "stdout",
       "text": [
        "\n",
        "5.72313073874"
       ]
      },
      {
       "output_type": "stream",
       "stream": "stdout",
       "text": [
        "\n",
        "5.21470357752"
       ]
      },
      {
       "output_type": "stream",
       "stream": "stdout",
       "text": [
        "\n",
        "4.75144368402"
       ]
      },
      {
       "output_type": "stream",
       "stream": "stdout",
       "text": [
        "\n",
        "4.32933852266"
       ]
      },
      {
       "output_type": "stream",
       "stream": "stdout",
       "text": [
        "\n",
        "3.94473202046"
       ]
      },
      {
       "output_type": "stream",
       "stream": "stdout",
       "text": [
        "\n",
        "3.5942928999"
       ]
      },
      {
       "output_type": "stream",
       "stream": "stdout",
       "text": [
        "\n",
        "3.27498582496"
       ]
      },
      {
       "output_type": "stream",
       "stream": "stdout",
       "text": [
        "\n",
        "2.98404511051"
       ]
      },
      {
       "output_type": "stream",
       "stream": "stdout",
       "text": [
        "\n",
        "2.71895076727"
       ]
      },
      {
       "output_type": "stream",
       "stream": "stdout",
       "text": [
        "\n",
        "2.47740667484"
       ]
      },
      {
       "output_type": "stream",
       "stream": "stdout",
       "text": [
        "\n",
        "2.25732069387\n",
        "2.05678654486"
       ]
      },
      {
       "output_type": "stream",
       "stream": "stdout",
       "text": [
        "\n",
        "1.87406729696\n",
        "1.70758032344"
       ]
      },
      {
       "output_type": "stream",
       "stream": "stdout",
       "text": [
        "\n",
        "1.5558835938\n",
        "1.41766318352"
       ]
      },
      {
       "output_type": "stream",
       "stream": "stdout",
       "text": [
        "\n",
        "1.29172189354\n",
        "1.17696888065"
       ]
      },
      {
       "output_type": "stream",
       "stream": "stdout",
       "text": [
        "\n",
        "1.07241020916"
       ]
      },
      {
       "output_type": "stream",
       "stream": "stdout",
       "text": [
        "\n",
        "0.977140241861\n",
        "0.890333795886"
       ]
      },
      {
       "output_type": "stream",
       "stream": "stdout",
       "text": [
        "\n",
        "0.811238995322\n",
        "0.739170758846"
       ]
      },
      {
       "output_type": "stream",
       "stream": "stdout",
       "text": [
        "\n",
        "0.67350486587\n",
        "0.613672549843\n",
        "0.559155571868"
       ]
      },
      {
       "output_type": "stream",
       "stream": "stdout",
       "text": [
        "\n",
        "0.50948173196\n",
        "0.464220779083\n",
        "0.422980684516"
       ]
      },
      {
       "output_type": "stream",
       "stream": "stdout",
       "text": [
        "\n",
        "0.385404246287\n",
        "0.351165995265"
       ]
      },
      {
       "output_type": "stream",
       "stream": "stdout",
       "text": [
        "\n",
        "0.3199693761\n",
        "0.2915441786"
       ]
      },
      {
       "output_type": "stream",
       "stream": "stdout",
       "text": [
        "\n",
        "0.265644197302\n",
        "0.24204509896"
       ]
      },
      {
       "output_type": "stream",
       "stream": "stdout",
       "text": [
        "\n",
        "0.220542479473\n",
        "0.200950093437\n",
        "0.183098240978"
       ]
      },
      {
       "output_type": "stream",
       "stream": "stdout",
       "text": [
        "\n",
        "0.166832297889\n",
        "0.152011376354\n",
        "0.138507104639"
       ]
      },
      {
       "output_type": "stream",
       "stream": "stdout",
       "text": [
        "\n",
        "0.126202515205\n",
        "0.114991031583\n",
        "0.104775545265"
       ]
      },
      {
       "output_type": "stream",
       "stream": "stdout",
       "text": [
        "\n",
        "0.0954675745976\n",
        "0.08698649839"
       ]
      },
      {
       "output_type": "stream",
       "stream": "stdout",
       "text": [
        "\n",
        "0.0792588576179\n",
        "0.0722177191537"
       ]
      },
      {
       "output_type": "stream",
       "stream": "stdout",
       "text": [
        "\n",
        "0.0658020960244\n",
        "0.0599564191718"
       ]
      },
      {
       "output_type": "stream",
       "stream": "stdout",
       "text": [
        "\n",
        "0.0546300561394\n",
        "0.0497768725187"
       ]
      },
      {
       "output_type": "stream",
       "stream": "stdout",
       "text": [
        "\n",
        "0.045354832355"
       ]
      },
      {
       "output_type": "stream",
       "stream": "stdout",
       "text": [
        "\n",
        "0.0413256340517\n",
        "0.0376543786208"
       ]
      },
      {
       "output_type": "stream",
       "stream": "stdout",
       "text": [
        "\n",
        "0.0343092674039\n",
        "0.0312613266481"
       ]
      },
      {
       "output_type": "stream",
       "stream": "stdout",
       "text": [
        "\n",
        "0.0284841565485"
       ]
      },
      {
       "output_type": "stream",
       "stream": "stdout",
       "text": [
        "\n",
        "0.0259537025863"
       ]
      },
      {
       "output_type": "stream",
       "stream": "stdout",
       "text": [
        "\n",
        "0.02364804718\n",
        "0.0215472198452"
       ]
      },
      {
       "output_type": "stream",
       "stream": "stdout",
       "text": [
        "\n",
        "0.0196330242208\n"
       ]
      }
     ],
     "prompt_number": 28
    },
    {
     "cell_type": "code",
     "collapsed": false,
     "input": [
      "%%R -o betareg_soln\n",
      "library(betareg)\n",
      "m = betareg(Y~X)\n",
      "print(summary(m))\n",
      "betareg_soln = m$coef$mean\n",
      "print(m$coef$mean)"
     ],
     "language": "python",
     "metadata": {},
     "outputs": [
      {
       "output_type": "display_data",
       "text": [
        "Loading required package: Formula\n",
        "\n",
        "Call:\n",
        "betareg(formula = Y ~ X)\n",
        "\n",
        "Standardized weighted residuals 2:\n",
        "    Min      1Q  Median      3Q     Max \n",
        "-5.4650 -0.5185 -0.0967  0.2609  7.4374 \n",
        "\n",
        "Coefficients (mean model with logit link):\n",
        "            Estimate Std. Error z value Pr(>|z|)    \n",
        "(Intercept) -0.79583    0.03277 -24.284  < 2e-16 ***\n",
        "XV90I        0.43647    0.11763   3.711 0.000207 ***\n",
        "XA98G        0.81501    0.11444   7.122 1.07e-12 ***\n",
        "XL100I       0.36110    0.14396   2.508 0.012129 *  \n",
        "XK101E       0.47793    0.15674   3.049 0.002295 ** \n",
        "XK101P       2.15278    0.21996   9.787  < 2e-16 ***\n",
        "XK101H       0.77196    0.21598   3.574 0.000351 ***\n",
        "XK103N       2.00110    0.06918  28.924  < 2e-16 ***\n",
        "XK103S       1.46173    0.28239   5.176 2.26e-07 ***\n",
        "XV106A       3.00920    0.29641  10.152  < 2e-16 ***\n",
        "XV106M       2.02779    0.42637   4.756 1.98e-06 ***\n",
        "XE138A       0.52425    0.16774   3.125 0.001776 ** \n",
        "XE138G       0.23114    0.20550   1.125 0.260683    \n",
        "XE138K      -0.57027    0.28089  -2.030 0.042331 *  \n",
        "XV179D       0.69141    0.20653   3.348 0.000815 ***\n",
        "XV179T      -1.03979    0.43570  -2.386 0.017011 *  \n",
        "XY181C       2.42203    0.08857  27.347  < 2e-16 ***\n",
        "XY181I       3.74754    0.33027  11.347  < 2e-16 ***\n",
        "XY181V       3.80252    0.38974   9.756  < 2e-16 ***\n",
        "XY188L       3.56452    0.15098  23.609  < 2e-16 ***\n",
        "XY188C       3.25763    0.45816   7.110 1.16e-12 ***\n",
        "XY188H       1.42684    0.44929   3.176 0.001494 ** \n",
        "XG190E       3.87406    0.34517  11.224  < 2e-16 ***\n",
        "XG190A       2.08034    0.11867  17.531  < 2e-16 ***\n",
        "XG190S       2.93373    0.19292  15.207  < 2e-16 ***\n",
        "XH221Y       0.36868    0.12916   2.854 0.004312 ** \n",
        "XP225H       0.74905    0.19753   3.792 0.000149 ***\n",
        "XF227L       0.50828    0.25010   2.032 0.042120 *  \n",
        "XM230L       1.73532    0.22199   7.817 5.40e-15 ***\n",
        "XK238T       1.05474    0.22316   4.726 2.29e-06 ***\n",
        "\n",
        "Phi coefficients (precision model with identity link):\n",
        "      Estimate Std. Error z value Pr(>|z|)    \n",
        "(phi)   4.0564     0.1527   26.56   <2e-16 ***\n",
        "---\n",
        "Signif. codes:  0 '***' 0.001 '**' 0.01 '*' 0.05 '.' 0.1 ' ' 1 \n",
        "\n",
        "Type of estimator: ML (maximum likelihood)\n",
        "Log-likelihood:  2045 on 31 Df\n",
        "Pseudo R-squared: 0.7529\n",
        "Number of iterations: 149 (BFGS) + 6 (Fisher scoring) \n",
        "(Intercept)       XV90I       XA98G      XL100I      XK101E      XK101P \n",
        " -0.7958281   0.4364684   0.8150064   0.3611015   0.4779328   2.1527796 \n",
        "     XK101H      XK103N      XK103S      XV106A      XV106M      XE138A \n",
        "  0.7719566   2.0010966   1.4617325   3.0091978   2.0277938   0.5242467 \n",
        "     XE138G      XE138K      XV179D      XV179T      XY181C      XY181I \n",
        "  0.2311444  -0.5702667   0.6914074  -1.0397933   2.4220251   3.7475383 \n",
        "     XY181V      XY188L      XY188C      XY188H      XG190E      XG190A \n",
        "  3.8025173   3.5645173   3.2576285   1.4268387   3.8740574   2.0803446 \n",
        "     XG190S      XH221Y      XP225H      XF227L      XM230L      XK238T \n",
        "  2.9337298   0.3686811   0.7490471   0.5082813   1.7353195   1.0547381 \n",
        "Warning message:\n",
        "package \u2018betareg\u2019 was built under R version 2.15.1 \n"
       ]
      }
     ],
     "prompt_number": 29
    },
    {
     "cell_type": "code",
     "collapsed": false,
     "input": [
      "plt.scatter(soln[1:], betareg_soln)"
     ],
     "language": "python",
     "metadata": {},
     "outputs": [
      {
       "output_type": "pyout",
       "prompt_number": 30,
       "text": [
        "<matplotlib.collections.PathCollection at 0x9d4ee90>"
       ]
      },
      {
       "output_type": "display_data",
       "png": "[encoded data removed]"
      }
     ],
     "prompt_number": 30
    },
    {
     "cell_type": "code",
     "collapsed": false,
     "input": [
      "betareg_soln.shape"
     ],
     "language": "python",
     "metadata": {},
     "outputs": [
      {
       "output_type": "pyout",
       "prompt_number": 31,
       "text": [
        "(30,)"
       ]
      }
     ],
     "prompt_number": 31
    },
    {
     "cell_type": "code",
     "collapsed": false,
     "input": [
      "solutions = np.array(solutions)\n",
      "f = [plt.plot(lagrange_sequence, solutions[:,i]) for i in range(solutions.shape[1])]"
     ],
     "language": "python",
     "metadata": {},
     "outputs": [
      {
       "output_type": "display_data",
       "png": "[encoded data removed]"
      }
     ],
     "prompt_number": 32
    },
    {
     "cell_type": "code",
     "collapsed": false,
     "input": [
      "plt.plot(lagrange_sequence, solutions[:,0])"
     ],
     "language": "python",
     "metadata": {},
     "outputs": [
      {
       "output_type": "pyout",
       "prompt_number": 34,
       "text": [
        "[<matplotlib.lines.Line2D at 0x9f9fa50>]"
       ]
      },
      {
       "output_type": "display_data",
       "png": "[encoded data removed]"
      }
     ],
     "prompt_number": 34
    },
    {
     "cell_type": "code",
     "collapsed": false,
     "input": [
      "import numpy as np, regreg.api as rr\n",
      "\n",
      "def georges_function(X, Y, nstep=100, tol=1.e-6, start_inv_step=2000., lagrange_proportion=.001):\n",
      "    '''\n",
      "    Parameters\n",
      "    ==========\n",
      "\n",
      "    X: ndarray\n",
      "         Feature matrix with first column an intercept column\n",
      "\n",
      "    Y: ndarray\n",
      "         Proportions\n",
      "\n",
      "    nstep: int\n",
      "         How many points in the path?\n",
      "\n",
      "    tol: float\n",
      "         How accurately do we solve each problem?\n",
      "\n",
      "    start_inv_step: float\n",
      "         A guess at the Lipschitz constant of the loss function -- backtrack\n",
      "         will find its own but this is an initial guess\n",
      "\n",
      "    lagrange_proportion: 0 < float < 1\n",
      "         What proportion of lagrange_max do we solve down to?\n",
      "\n",
      "    '''\n",
      "    # assuming that X has an intercept column as its first column\n",
      "    \n",
      "    # first, find lambda_max\n",
      "    \n",
      "    n, p = X.shape\n",
      "    \n",
      "    # loss function\n",
      "    \n",
      "    loss = beta_loglikelihood_mu(Y, X)\n",
      "    \n",
      "    null_design = X[:,0:1]\n",
      "    null_problem = beta_loglikelihood_mu(Y,null_design)\n",
      "    null_problem.coefs = np.ones(2)\n",
      "    null_soln = null_problem.solve(tol=tol, start_inv_step=2000)\n",
      "\n",
      "    full_null_soln = np.zeros(p+1)\n",
      "    full_null_soln[:2] = null_soln\n",
      "    grad_null = loss.smooth_objective(full_null_soln, mode='grad')\n",
      "    lagrange_max = np.fabs(grad_null).max()\n",
      "\n",
      "    # construct the penalty\n",
      "\n",
      "    penalty = rr.group_lasso([rr.UNPENALIZED]*2+[rr.L1_PENALTY]*(p-1), lagrange_max)\n",
      "    \n",
      "    # and the problem\n",
      "    \n",
      "    problem = rr.simple_problem(loss, penalty)\n",
      "    problem.coefs = np.ones(loss.primal_shape)\n",
      "\n",
      "    solutions = []\n",
      "    nstep = 100\n",
      "    lagrange_proportion = 1.e-4\n",
      "    lagrange_sequence = lagrange_max * np.exp(np.linspace(np.log(lagrange_proportion), 0,\n",
      "                                    nstep))[::-1]\n",
      "    for lagrange in lagrange_sequence:\n",
      "        penalty.lagrange = lagrange\n",
      "        soln = problem.solve(tol=1.e-6, start_inv_step=2000)\n",
      "        solutions.append(soln.copy())\n",
      "        \n",
      "    return np.array(solutions)\n",
      "\n",
      "solutions = georges_function(X, Y, nstep=10)"
     ],
     "language": "python",
     "metadata": {},
     "outputs": [],
     "prompt_number": 40
    },
    {
     "cell_type": "code",
     "collapsed": false,
     "input": [
      "solutions.shape"
     ],
     "language": "python",
     "metadata": {},
     "outputs": [
      {
       "output_type": "pyout",
       "prompt_number": 41,
       "text": [
        "(100, 31)"
       ]
      }
     ],
     "prompt_number": 41
    },
    {
     "cell_type": "code",
     "collapsed": false,
     "input": [],
     "language": "python",
     "metadata": {},
     "outputs": []
    }
   ],
   "metadata": {}
  }
 ]
}